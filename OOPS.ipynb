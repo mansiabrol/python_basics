{
  "nbformat": 4,
  "nbformat_minor": 0,
  "metadata": {
    "colab": {
      "provenance": []
    },
    "kernelspec": {
      "name": "python3",
      "display_name": "Python 3"
    },
    "language_info": {
      "name": "python"
    }
  },
  "cells": [
    {
      "cell_type": "markdown",
      "source": [
        "Python OOPs"
      ],
      "metadata": {
        "id": "-cvU9mNwQK6l"
      }
    },
    {
      "cell_type": "markdown",
      "source": [
        "Python OOPs\n",
        "\n",
        "1.What is Object-Oriented Programming (OOP)?\n",
        "\n",
        "- Core Idea:\n",
        "\n",
        "- Object-Oriented Programming (OOP) is a way of structuring your code using \"objects\".\n",
        "- oops consist of:\n",
        "1. Objects:\n",
        "\n",
        "- These are the building blocks of your program.\n",
        "- An object represents a real-world entity (like a car, a person, a bank account)\n",
        "- Each object has:\n",
        "\n",
        "- Attributes: These are pieces of data that describe the object (e.g., the color of a car, the name of a person, the balance of a bank account).\n",
        "\n",
        "- Methods: These are the actions or operations that the object can perform (e.g., a car can start, a person can speak, a bank account can deposit).\n",
        "2.Classes:\n",
        "-A class is like a blueprint or a template for creating objects.\n",
        "Think of a class as a Car – it defines the shape and features of many different, but you can observe many individual cars(objects) using it.\n",
        "- Why use OOP?\n",
        "\n",
        "- Organization: It provides a structured way to organize code into manageable units.\n",
        "\n",
        "- Reusability: Classes and objects can be reused in different parts of your application or in other projects.\n",
        "\n",
        "- Maintainability: It makes code easier to maintain and modify because changes in one object are less likely to affect other objects.\n",
        "\n",
        "- Flexibility: It allows your code to be flexible and adaptable to changing requirements.\n",
        "\n",
        "OOP include:\n",
        "\n",
        "- Encapsulation: Bundling data and methods that operate on that data within an object.\n",
        "\n",
        "- Abstraction: Hiding the complex implementation details and exposing only the essential interface.\n",
        "\n",
        "- Inheritance: Creating new classes based on existing classes, inheriting their properties and behaviors.\n",
        "\n",
        "- Polymorphism: Polymorphism, meaning \"many forms,\" allows you to treat objects of different classes in a unified way\n",
        "- Example Scenario:\n",
        "\n",
        "Imagine you have an application that needs to process different types of media (audio, video, images).\n",
        "\n",
        "Without polymorphism, you might have different processing functions for each type (e.g., processAudio, processVideo, processImage).\n",
        "\n",
        "With polymorphism, you can create a base class Media and subclasses Audio, Video, Image, each with its own implementation for a process() method. Your main code just calls media.process() which will handle each type in its own appropriate way.\n",
        "2. What is a class in OOP?\n",
        "\n",
        "- A class is a blueprint or template for creating objects. It defines:\n",
        "\n",
        "- Attributes (Data): Variables that store the object's state or information.\n",
        "\n",
        "- Methods (Behavior): Functions that define the object's actions and how it interacts with data.\n",
        "3. What is an object in OOP?\n",
        "\n",
        "- An object is an instance of a class.\n",
        "- Each object has its own unique set of attribute values, even if they share the same methods\n",
        "4. What is the difference between abstraction and encapsulation?\n",
        "\n",
        "- Encapsulation:\n",
        "\n",
        "- Bundling the data (attributes) and the methods that work on that data together within an object.\n",
        "\n",
        "- This means that the object is responsible for managing its internal state.\n",
        "\n",
        "- It also hides the object's internal details from the outside world, preventing accidental modification and keeping the code more organized.\n",
        "\n",
        "Abstraction:\n",
        "\n",
        "- Showing only the essential features and hiding unnecessary complexity.\n",
        "\n",
        "- You interact with an object through its public methods without needing to know the specifics of how the methods work internally.\n",
        "\n",
        "- For example, when you drive a car, you use the steering wheel and pedals (the abstract interface) without needing to understand the inner workings of the engine.\n",
        "5. What are dunder methods in Python?\n",
        "\n",
        "Dunder methods (also called magic methods or special methods) are methods with double underscores on each side of the name (e.g., __init__, __str__). These methods allow you to customize the behavior of Python objects and implement features such as:\n",
        "\n",
        "Object creation (__init__, __new__)\n",
        "\n",
        "String representation (__str__, __repr__)\n",
        "\n",
        "Arithmetic operations (__add__, __mul__)\n",
        "\n",
        "Comparison (__eq__, __lt__)\n",
        "\n",
        "Callable behavior (__call__)\n",
        "\n",
        "6. Explain the concept of inheritance in OOP\n",
        "\n",
        "\n",
        "- The ability to create new classes based on existing ones, reusing code and defining relationships between classes.\n",
        "\n",
        "- A new class (subclass) inherits the attributes and methods of an existing class (superclass).\n",
        "\n",
        "- For instance, a \"Dog\" class could inherit from an \"Animal\" class and inherit common features and behavior. Then add new attributes and methods specific to the Dog class.\n",
        "7. What is polymorphism in OOP\n",
        "- Polymorphism, meaning \"many forms,\" allows you to treat objects of different classes in a unified way.\n",
        " -Example Scenario:\n",
        "\n",
        "- Imagine you have an application that needs to process different types of media (audio, video, images).\n",
        "\n",
        "- Without polymorphism, you might have different processing functions for each type (e.g., processAudio, processVideo, processImage).\n",
        "\n",
        "- With polymorphism, you can create a base class Media and subclasses Audio, Video, Image, each with its own implementation for a process() method. Your main code just calls media.process() which will handle each type in its own appropriate way\n",
        "\n",
        "- Polymorphism makes OOP more powerful, flexible, and easier to maintain.\n",
        "\n",
        "- It allows you to write code that is more generic, reusable, and extensible, reducing code complexity and improving the overall structure of your programs\n",
        "\n",
        "8. How is encapsulation achieved in Python\n",
        "-  Python achieves encapsulation through:\n",
        "\n",
        "- Naming Conventions: Using underscores (single and double) to indicate the intended visibility and access levels.\n",
        "\n",
        "- Name Mangling: Using double underscores to make attributes and methods harder to access directly from outside the class, thus making them more private.\n",
        "- Public Attributes and Methods: Attributes and methods without underscores are public and can be accessed from anywhere.\n",
        "class MyClass:\n",
        "    def __init__(self):\n",
        "        self.public_attribute = 10\n",
        "\n",
        "    def public_method(self):\n",
        "        print(\"This is a public method.\")\n",
        "\n",
        "obj = MyClass()\n",
        "print(obj.public_attribute)  # Accessing the public attribute\n",
        "obj.public_method()  # Calling the public method\n",
        "\n",
        "- Protected Attributes and Methods: Attributes and methods with a single leading underscore (_attribute) are considered protected.\n",
        "\n",
        "-  While not strictly enforced by Python, it's a convention to indicate that these are meant for internal use within the class and its subclasses.\n",
        "\n",
        " class MyClass:\n",
        "    def __init__(self):\n",
        "        self._protected_attribute = 20\n",
        "\n",
        "    def _protected_method(self):\n",
        "        print(\"This is a protected method.\")\n",
        "\n",
        "obj = MyClass()\n",
        "print(obj._protected_attribute)  # Technically allowed but discouraged\n",
        "obj._protected_method()  # Technically allowed but discouraged\n",
        "\n",
        "- Private Attributes and Methods:\n",
        "- Attributes and methods with double leading underscores (__attribute) are name-mangled by Python, making them harder to access directly from outside the class.\n",
        "- They are more private than protected attributes as they are not easily accessed directly from outside the class.\n",
        "- This is Python's way of providing some level of data hiding, even though it's not strict\n",
        "\n",
        "class MyClass:\n",
        "    def __init__(self):\n",
        "        self.__private_attribute = 30\n",
        "\n",
        "    def __private_method(self):\n",
        "        print(\"This is a private method.\")\n",
        "\n",
        "    def access_private_from_inside(self):\n",
        "      print(self.__private_attribute) # access the attribute from inside class\n",
        "      self.__private_method() # calling the method from inside class\n",
        "\n",
        "obj = MyClass()\n",
        "\n",
        "#print(obj.__private_attribute) # This will give an error \"AttributeError\"\n",
        "\n",
        "#obj.__private_method() # This will give an error \"AttributeError\"\n",
        "\n",
        "obj.access_private_from_inside() # This works because we are accessing inside class\n",
        "\n",
        "#print(obj._MyClass__private_attribute) # Technically, you can access this mangled name. but it is not supposed to be used like this.\n",
        "\n",
        "9. What is a constructor in Python?\n",
        "\n",
        "The constructor in Python is the __init__ method. It's a special dunder method that is automatically called when an object of a class is created. It's used to initialize the attributes of the object with values when the object is created.\n",
        "\n",
        "10.What are class and static methods in Python?\n",
        "1. Class Methods:\n",
        "\n",
        "- Bound to the Class: Class methods are bound to the class itself, not to a specific instance of the class.\n",
        "\n",
        "- First Argument is the Class: They automatically receive the class itself as the first argument. By convention, this argument is named cls.\n",
        "\n",
        "- Access to Class Attributes: They can access and modify class-level attributes (variables that are shared by all instances of the class).\n",
        "\n",
        "- Cannot Access Instance Attributes: They do not have direct access to instance-specific attributes (variables that are unique to each object).\n",
        "\n",
        "- Defined with @classmethod Decorator: They are defined using the @classmethod decorator above the method definition.\n",
        "\n",
        "2. Static Methods:\n",
        "\n",
        "- Not Bound to Class or Instance: Static methods are not bound to either the class or a specific instance of the class.\n",
        "\n",
        "- No Implicit First Argument: They do not receive any implicit first argument (neither self nor cls).\n",
        "\n",
        "- Limited Access: They cannot directly access class-level or instance-level attributes.\n",
        "\n",
        "- Defined with @staticmethod Decorator: They are defined using the @staticmethod decorator above the method definition.\n",
        "\n",
        "Use Cases\tfFactory methods, class state modification\tUtility functions, namespace organization\n",
        "\n",
        "\n",
        "\n",
        "- Class methods are like methods that know about the class itself and can be used to create instances or modify class-level data.\n",
        "\n",
        "Use Cases\t-Factory methods, class state modification\n",
        "\n",
        "\n",
        "- Static methods are like regular functions that are grouped within a class for organizational purposes, but they don't have any special access to the class or its instances.\n",
        "\n",
        "Use Cases\t-Utility functions, namespace organization\n",
        "\n",
        "\n",
        "- Choosing between them depends on whether you need access to the class itself or not.\n",
        "- If you need to work with the class or its class-level attributes, use a class method.\n",
        "- If you just need a utility function that is related to the class, use a static method.\n",
        "\n",
        "\n",
        "11. What is method overloading in Python?\n",
        "- In general, method overloading is the ability to have multiple methods within the same class that have the same name but different parameter lists (different number of parameters, different types of parameters, or different order of parameters)\n",
        "\n",
        "- Method overloading, as known in other languages like Java, is not directly supported in Python.\n",
        "- You can't have multiple methods with the same name but different parameters within a single class.\n",
        "-  Python does allow you to have one method that can handle different parameters via default parameters or variable arguments.\n",
        "\n",
        "12.What is method overriding in Python?\n",
        "\n",
        "- Method overriding is a powerful mechanism in OOP that allows subclasses to customize the behavior of inherited methods.\n",
        "- Method overriding is when a subclass (child class) provides its own specific implementation of a method that is already defined in its superclass (parent class).\n",
        "- Imagine a parent class has a method called speak().\n",
        "- The parent class might have a generic implementation of speak().\n",
        "- Now, a child class (like a Dog class) can override the speak() method to provide its own specific implementation (like barking).\n",
        "-  When you call speak() on a Dog object, you'll hear a bark, not the generic sound from the parent class.\n",
        "\n",
        "13. What is a property decorator in Python?\n",
        "- The @property decorator in Python allows you to define methods that can be accessed like attributes.\n",
        "- This means you can use the syntax of accessing an attribute (e.g., obj.my_attribute) to call a method\n",
        "\n",
        "Key Features and Benefits:\n",
        "\n",
        "- Attribute-like Access:\n",
        "\n",
        "You can access a method as if it were a regular attribute, without using parentheses ().\n",
        "\n",
        "This makes your code more readable\n",
        "\n",
        "- Controlled Access (Encapsulation):\n",
        "\n",
        "- You can control how an attribute is accessed, modified, or deleted.\n",
        "\n",
        "- You can add logic, compute values on the fly, or perform other actions.\n",
        "\n",
        "- Read-Only Attributes:\n",
        "\n",
        "- You can create read-only attributes by defining only a getter method (the method decorated with @property).\n",
        "\n",
        "- This prevents accidental modification of the attribute from outside the class.\n",
        "\n",
        "- Getter, Setter, and Deleter Methods:\n",
        "\n",
        "- The @property decorator defines the getter method (the method that is called when you access the attribute).\n",
        "\n",
        "- You can also define setter and deleter methods using @attribute.setter and @attribute.deleter decorators, respectively.\n",
        "\n",
        "- These methods are called when you assign a value to the attribute or delete the attribute.\n",
        "\n",
        "- How it Works:\n",
        "\n",
        "1.@property Decorator:\n",
        "\n",
        "- The method decorated with @property becomes the getter method for the attribute.\n",
        "\n",
        "-It is called when you access the attribute (e.g., obj.my_attribute).\n",
        "\n",
        "2.@attribute.setter Decorator:\n",
        "\n",
        "- The method decorated with @attribute.setter becomes the setter method for the attribute.\n",
        "\n",
        "- It is called when you assign a value to the attribute (e.g., obj.my_attribute = value).\n",
        "\n",
        "3.@attribute.deleter Decorator:\n",
        "\n",
        "- The method decorated with @attribute.deleter becomes the deleter method for the attribute.\n",
        "\n",
        "- It is called when you delete the attribute (e.g., del obj.my_attribute).\n",
        "\n",
        "14. Why is polymorphism important in OOP?\n",
        "\n",
        "- Polymorphism is important because it promotes code flexibility and reusability.\n",
        "-  It lets you write more general code that can work with objects of different types, without knowing their specific class.\n",
        "- This makes code easier to maintain, extend, and test.\n",
        "\n",
        "15. What is an abstract class in Python?\n",
        "- An abstract class in Python is a class that:\n",
        "\n",
        "- Cannot be instantiated: You can't create objects directly from an abstract class.\n",
        "\n",
        "- Acts as a blueprint: It's designed to be a base class for other classes (subclasses).\n",
        "\n",
        "- May contain abstract methods: It can have methods that are declared but not implemented (abstract methods).\n",
        "\n",
        "- Forces subclasses to implement abstract methods: Subclasses that inherit from an abstract class must provide implementations for all the abstract methods.\n",
        "Example-\n",
        "- Imagine you're designing a system for different types of shapes.\n",
        "You might create an abstract class called Shape.\n",
        "- This class would define a method called calculate_area(), but it wouldn't provide an actual implementation.\n",
        "- Instead, it would force subclasses like Circle, Square, and Triangle to implement their own specific calculate_area() methods.\n",
        "-  You can use the 'abc' module to define abstract classes and abstract methods.\n",
        "\n",
        "16. What are the advantages of OOP?\n",
        "\n",
        "- Organization: It provides a structured way to organize code into manageable units.\n",
        "\n",
        "- Reusability: Classes and objects can be reused in different parts of your application or in other projects.\n",
        "\n",
        "- Maintainability: It makes code easier to maintain and modify because changes in one object are less likely to affect other objects.\n",
        "\n",
        "- Flexibility: It allows your code to be flexible and adaptable to changing requirements.\n",
        "- Data security: Encapsulation helps protect data by controlling access to attributes.\n",
        "\n",
        "\n",
        "17. What is the difference between a class variable and an instance variable?\n",
        "\n",
        "1. Class Variables:\n",
        "\n",
        "- Belong to the Class: Class variables are associated with the class itself, not with any specific instance (object) of the class.\n",
        "\n",
        "- Shared by All Instances: All instances of the class share the same copy of a class variable. If you modify a class variable, the change is reflected in all instances of the class.\n",
        "\n",
        "- Defined Inside the Class, Outside Methods: They are defined within the class but outside of any methods (including the __init__ method).\n",
        "\n",
        "- Accessed Using Class Name or Instance: You can access class variables using the class name (e.g., MyClass.class_var) or through an instance of the class (e.g., obj.class_var).\n",
        "- Use Cases:\n",
        "\n",
        "Storing information that is common to all objects of the class (e.g., a counter for the number of objects created, a default value for an attribute).\n",
        "\n",
        "- Defining constants that are associated with the class.\n",
        "\n",
        "Example of a Class Variable:\n",
        "\n",
        "class MyClass:\n",
        "    count = 0  # Class variable\n",
        "\n",
        "    def __init__(self, value):\n",
        "        self.value = value  # Instance variable\n",
        "        MyClass.count += 1\n",
        "\n",
        "obj1 = MyClass(10)\n",
        "obj2 = MyClass(20)\n",
        "\n",
        "print(MyClass.count)  # Output: 2 (Accessed using class name)\n",
        "print(obj1.count)     # Output: 2 (Accessed using instance)\n",
        "print(obj2.count)     # Output: 2 (Accessed using instance)\n",
        "\n",
        "MyClass.count = 5 # Modifying the class variable\n",
        "print(obj1.count) # Output: 5\n",
        "print(obj2.count) # Output: 5\n",
        "\n",
        "obj1.count = 10 # This creates a new instance variable called count for obj1\n",
        "print(obj1.count) # Output: 10\n",
        "print(obj2.count) # Output: 5\n",
        "print(MyClass.count) # Output: 5\n",
        "\n",
        "2. Instance Variables:\n",
        "\n",
        "Belong to the Instance: Instance variables are associated with a specific instance (object) of the class.\n",
        "\n",
        "Unique to Each Instance: Each instance of the class has its own separate copy of an instance variable. Modifying an instance variable in one object does not affect other objects.\n",
        "\n",
        "Defined Inside Methods (Typically __init__): They are typically defined inside methods, most commonly within the __init__ method (the constructor).\n",
        "\n",
        "Accessed Using Instance: You access instance variables using the instance of the class (e.g., obj.instance_var).\n",
        "\n",
        "Use Cases:\n",
        "\n",
        "Storing data that is specific to each object (e.g., the name of a person, the balance of a bank account).\n",
        "\n",
        "Representing the state of an object.\n",
        "\n",
        "Example of an Instance Variable:\n",
        "\n",
        "class MyClass:\n",
        "    def __init__(self, value):\n",
        "        self.value = value  # Instance variable\n",
        "\n",
        "obj1 = MyClass(10)\n",
        "obj2 = MyClass(20)\n",
        "\n",
        "print(obj1.value)  # Output: 10 (Accessed using instance)\n",
        "\n",
        "print(obj2.value)  # Output: 20 (Accessed using instance)\n",
        "\n",
        "obj1.value = 15 # Modifying the instance variable\n",
        "\n",
        "print(obj1.value) # Output: 15\n",
        "\n",
        "print(obj2.value) # Output: 20\n",
        "\n",
        "\n",
        "\n",
        "- Class variables are like shared properties of a class, common to all objects.\n",
        "\n",
        "-Instance variables are like individual properties of each object, unique to each object.\n",
        "\n",
        "18. What is multiple inheritance in Python?\n",
        "\n",
        "- Multiple inheritance is when a class inherits from more than one superclass.\n",
        "- This allows a class to inherit attributes and methods from multiple sources.\n",
        "- This can bring potential issues related to name conflicts. Python resolves these using the method resolution order (MRO).\n",
        "\n",
        "19. Explain the purpose of __str__ and __repr__  methods in Python?\n",
        "\n",
        "- Both __str__ and __repr__ are special (dunder) methods that are used to provide string representations of objects.\n",
        "- However, they serve different purposes and are intended for different audiences.\n",
        ".\n",
        " __str__ Method:\n",
        "\n",
        "1.Purpose: To provide a human-readable, informal, or \"pretty-printed\" string representation of an object.\n",
        "\n",
        "2.Intended Audience: Primarily for end-users or anyone who wants a user-friendly description of the object.\n",
        "\n",
        "3.Used by:\n",
        "\n",
        "-The str() function.\n",
        "\n",
        "-The print() function (implicitly calls str() on the object).\n",
        "\n",
        "-When you use format() or f-strings.\n",
        "\n",
        "4.Focus: On readability and clarity for humans.\n",
        "\n",
        "Example: A string representation of a date might be \"2023-10-27\", or a string representation of a person might be \"John Doe\".\n",
        "\n",
        "2. __repr__ Method:\n",
        "\n",
        "1.Purpose: To provide an unambiguous, developer-oriented, or \"official\" string representation of an object.\n",
        "\n",
        "2.Intended Audience: Primarily for developers or anyone who needs a detailed and precise description of the object.\n",
        "\n",
        "3.Used by:\n",
        "\n",
        "- The repr() function.\n",
        "\n",
        "- When you inspect an object in the interactive interpreter\n",
        "\n",
        "- When debugging or logging.\n",
        "\n",
        "4.Focus: On being unambiguous and, ideally, able to recreate the object from the string representation.\n",
        "\n",
        "- Example: A string representation of a date might be datetime.date(2023, 10, 27), or a string representation of a person might be Person(name='John Doe', age=30)\n",
        "\n",
        "- Implement __repr__ First: It's generally recommended to implement __repr__ first, as it should be the most detailed representation.\n",
        "\n",
        "- __str__ Can Fallback to __repr__: If you don't define __str__, Python will use the __repr__ method as a fallback.\n",
        "\n",
        "- __repr__ Should Be Recreatable (Ideally): The string returned by should ideally be a valid Python expression that can be used to recreate the object (e.g., MyClass(arg1, arg2)).\n",
        "\n",
        "- __str__ Can Be More Concise: The string returned by __str__ can be more concise and user-friendly.\n",
        "\n",
        "Example:\n",
        "\n",
        "import datetime\n",
        "\n",
        "class Person:\n",
        "    def __init__(self, name, age):\n",
        "        self.name = name\n",
        "        self.age = age\n",
        "\n",
        "    def __str__(self):\n",
        "        return f\"{self.name} is {self.age} years old\"\n",
        "\n",
        "    def __repr__(self):\n",
        "        return f\"Person(name='{self.name}', age={self.age})\"\n",
        "\n",
        "today = datetime.date.today()\n",
        "print(str(today)) # Output: 2023-10-27\n",
        "\n",
        "print(repr(today)) # Output: datetime.date(2023, 10, 27)\n",
        "\n",
        "person = Person(\"Alice\", 30)\n",
        "\n",
        "print(str(person))  # Output: Alice is 30 years old\n",
        "\n",
        "print(repr(person)) # Output: Person(name='Alice', age=30)\n",
        "\n",
        "\n",
        "20. What is the significance of the super() function in Python?\n",
        "\n",
        "- The super() function is used to call methods from a parent class or sibling classes in a multiple inheritance scenario.\n",
        "- This allows you to extend or modify the behavior of a parent class method within the subclass, without rewriting its original implementation.\n",
        "- It's a way to avoid direct calls to the base class, thus making code more maintainable.\n",
        "\n",
        "\n",
        "21. What is the significance of the __del__ method in Python?\n",
        "\n",
        "- The __del__ method is called when an object is about to be garbage-collected (i.e., when there are no references to it anymore). - It provides a hook to perform cleanup actions, such as closing files or releasing resources held by the object, although Python's garbage collector handles most cleanup automatically.\n",
        "-  Avoid using it unless strictly necessary.\n",
        "22. What is the difference between @staticmethod and @classmethod in Python?\n",
        "\n",
        "- @staticmethod: A static method is like a regular function but lives inside a class namespace.\n",
        "- It does not have access to class or instance attributes.\n",
        "- They are mainly used for utility functions related to the class.\n",
        "- It does not have a class or instance bound to it as the first parameter.\n",
        "\n",
        "@classmethod: A class method is bound to the class, not the object.\n",
        "- It has access to class attributes.\n",
        "- It has class as the first parameter.\n",
        "- It can be used to create factory methods (alternative constructors) or interact with class-level attributes.-\n",
        "\n",
        "\n",
        "\n",
        "23. How does polymorphism work in Python with inheritance?\n",
        "\n",
        "- Polymorphism in Python with inheritance relies on the ability to treat objects of different classes (derived from the same base class) as if they are objects of the base class type.\n",
        "- The specific version of a method called will depend on the actual type of the object.\n",
        "- This is achieved through method overriding, where different classes provide their implementations for a shared method.\n",
        "\n",
        "24. What is method chaining in Python OOP?\n",
        "\n",
        "-Method chaining is a technique where methods on an object return the object itself.\n",
        "- This allows you to call multiple methods sequentially, using a single statement.\n",
        "- The methods are executed in the order they appear, creating a more concise and readable code.\n",
        "\n",
        "25. What is the purpose of the __call__ method in Python?\n",
        "\n",
        "- The __call__ method allows you to make objects callable like functions.\n",
        "- When you define this method in your class, you can invoke the object by calling it as if it was a function.\n",
        "- This can be used to encapsulate certain functionality that behaves like a function but also holds state within the object.\n",
        "\n"
      ],
      "metadata": {
        "id": "_ao7MhoiQRWe"
      }
    },
    {
      "cell_type": "code",
      "source": [
        "#Create a parent class Animal with a method speak() that prints a generic message. Create a child class Dog that overrides the speak() method to print \"Bark!\".\n",
        "\n",
        "class Animal:\n",
        "    def speak(self):\n",
        "        print(\"Generic animal sound\")\n",
        "\n",
        "class Dog(Animal):\n",
        "    def speak(self):\n",
        "        print(\"Bark!\")\n",
        "\n",
        "# Example usage\n",
        "animal = Animal()\n",
        "animal.speak()\n",
        "\n",
        "dog = Dog()\n",
        "dog.speak()\n",
        "\n",
        "#The Animal class is the parent class with a generic speak() method.\n",
        "\n",
        "#The Dog class inherits from Animal using class Dog(Animal):.\n",
        "\n",
        "#Dog overrides the speak() method, providing its own specific implementation.\n",
        "\n",
        "#When we call speak() on a Dog object, the overridden method in Dog is executed, demonstrating polymorphism."
      ],
      "metadata": {
        "id": "fbf3MfgEP5XG",
        "colab": {
          "base_uri": "https://localhost:8080/"
        },
        "outputId": "ef95b0bd-4003-4d0d-9d2f-9afcf2326796"
      },
      "execution_count": null,
      "outputs": [
        {
          "output_type": "stream",
          "name": "stdout",
          "text": [
            "Generic animal sound\n",
            "Bark!\n"
          ]
        }
      ]
    },
    {
      "cell_type": "code",
      "source": [
        "#Write a program to create an abstract class Shape with a method area(). Derive classes Circle and Rectanglefrom it and implement the area() method in both.\n",
        "from abc import ABC, abstractmethod\n",
        "import math\n",
        "\n",
        "class Shape(ABC):\n",
        "    @abstractmethod\n",
        "    def area(self):\n",
        "        pass\n",
        "\n",
        "class Circle(Shape):\n",
        "    def __init__(self, radius):\n",
        "        self.radius = radius\n",
        "\n",
        "    def area(self):\n",
        "        return math.pi * self.radius ** 2\n",
        "\n",
        "class Rectangle(Shape):\n",
        "    def __init__(self, length, width):\n",
        "        self.length = length\n",
        "        self.width = width\n",
        "\n",
        "    def area(self):\n",
        "        return self.length * self.width\n",
        "\n",
        "\n",
        "#shape = Shape() # This will throw error because abstract classes cannot be instantiated.\n",
        "circle=Circle(5)\n",
        "print(f\"Area of circle: {circle.area()}\")\n",
        "\n",
        "rectangle=Rectangle(4,6)\n",
        "print(f\"Area of rectangle: {rectangle.area()}\")\n",
        "\n",
        "#We use the abc (Abstract Base Classes) module to create an abstract class.\n",
        "\n",
        "#Shape is an abstract class (ABC) and area is an abstract method (@abstractmethod). Abstract methods force subclasses to implement them.\n",
        "\n",
        "#Circle and Rectangle inherit from Shape and provide  implementations of area().\n",
        "\n",
        "#We cannot directly create an instance of the Shape class"
      ],
      "metadata": {
        "colab": {
          "base_uri": "https://localhost:8080/"
        },
        "id": "CW4ObWS2Yvqu",
        "outputId": "64d22361-6cc7-4f30-ba19-76f71f344ab0"
      },
      "execution_count": null,
      "outputs": [
        {
          "output_type": "stream",
          "name": "stdout",
          "text": [
            "Area of circle: 78.53981633974483\n",
            "Area of rectangle: 24\n"
          ]
        }
      ]
    },
    {
      "cell_type": "code",
      "source": [
        "#Implement a multi-level inheritance scenario where a class Vehicle has an attribute type. Derive a class Car and further derive a class ElectricCar that adds a battery attribute.\n",
        "class Vehicle:\n",
        "    def __init__(self, type):\n",
        "        self.type = type\n",
        "\n",
        "class Car(Vehicle):\n",
        "    def __init__(self, type, model):\n",
        "      super().__init__(type)\n",
        "      self.model = model\n",
        "\n",
        "\n",
        "class ElectricCar(Car):\n",
        "    def __init__(self, type, model, battery_capacity):\n",
        "      super().__init__(type, model)\n",
        "      self.battery_capacity = battery_capacity\n",
        "\n",
        "vehicle = Vehicle(\"Generic\")\n",
        "print(vehicle.type)\n",
        "car = Car(\"Red Car\", \"Sedan\")\n",
        "print(car.type)\n",
        "print(car.model)\n",
        "\n",
        "electric_car = ElectricCar(\"Electric\", \"Model S\", \"100 kWh\")\n",
        "print(electric_car.type)\n",
        "print(electric_car.model)\n",
        "print(electric_car.battery_capacity)\n",
        "\n",
        "#Vehicle is the base class with a type attribute.\n",
        "\n",
        "#Car inherits from Vehicle, inheriting the type attribute.\n",
        "\n",
        "#ElectricCar inherits from Car, inheriting the type attribute and the model attribute and adds a battery_capacity attribute, demonstrating multi-level inheritance.\n"
      ],
      "metadata": {
        "colab": {
          "base_uri": "https://localhost:8080/"
        },
        "id": "vhnCDla9ctUP",
        "outputId": "d951ba43-9e5d-4294-abee-3e4b27e469bd"
      },
      "execution_count": null,
      "outputs": [
        {
          "output_type": "stream",
          "name": "stdout",
          "text": [
            "Generic\n",
            "Red Car\n",
            "Sedan\n",
            "Electric\n",
            "Model S\n",
            "100 kWh\n"
          ]
        }
      ]
    },
    {
      "cell_type": "code",
      "source": [
        "#Write a program to demonstrate encapsulation by creating a class BankAccount with private attributes balance and methods to deposit, withdraw, and check balance.\n",
        "class BankAccount:\n",
        "    def __init__(self, initial_balance):\n",
        "        self.__balance = initial_balance  # Private attribute using name mangling\n",
        "\n",
        "    def deposit(self, amount):\n",
        "        if amount > 0:\n",
        "            self.__balance += amount\n",
        "            print(f\"Deposited: ${amount}. New balance: ${self.__balance}\")\n",
        "        else:\n",
        "            print(\"Invalid deposit amount.\")\n",
        "\n",
        "    def withdraw(self, amount):\n",
        "        if 0 < amount <= self.__balance:\n",
        "            self.__balance -= amount\n",
        "            print(f\"Withdrew: ${amount}. New balance: ${self.__balance}\")\n",
        "        elif amount <= 0:\n",
        "            print(\"Invalid withdraw amount\")\n",
        "        else:\n",
        "            print(\"Insufficient funds.\")\n",
        "\n",
        "    def check_balance(self):\n",
        "      return self.__balance\n",
        "\n",
        "# Example usage\n",
        "account = BankAccount(1000)\n",
        "account.deposit(500)\n",
        "account.withdraw(200)\n",
        "print(f\"Current balance: ${account.check_balance()}\")\n",
        "#print(account.__balance) # This will throw error as balance is private.\n",
        "\n",
        "\n",
        "#__balance is a private attribute using name mangling (two leading underscores).\n",
        "\n",
        "#We can access and modify the balance only through the deposit(), withdraw(), and check_balance() methods, which control how the data is accessed.\n",
        "\n",
        "T#rying to directly access __balance from outside the class will result in an AttributeError. This demonstrates encapsulation by hiding the data and exposing it through controlled access points (methods)."
      ],
      "metadata": {
        "colab": {
          "base_uri": "https://localhost:8080/"
        },
        "id": "i08cK_ZJak7R",
        "outputId": "a1f183f1-dbca-49a0-e462-9d033e56f0e1"
      },
      "execution_count": null,
      "outputs": [
        {
          "output_type": "stream",
          "name": "stdout",
          "text": [
            "Deposited: $500. New balance: $1500\n",
            "Withdrew: $200. New balance: $1300\n",
            "Current balance: $1300\n"
          ]
        }
      ]
    },
    {
      "cell_type": "code",
      "source": [
        "#Demonstrate runtime polymorphism using a method play() in a base class Instrument. Derive classes Guitar and Piano that implement their own version of play()\n",
        "class Instrument:\n",
        "    def play(self):\n",
        "        print(\"Playing a generic instrument sound.\")\n",
        "\n",
        "class Guitar(Instrument):\n",
        "    def play(self):\n",
        "        print(\"Playing a guitar\")\n",
        "\n",
        "class Piano(Instrument):\n",
        "    def play(self):\n",
        "        print(\"Playing a piano melody!\")\n",
        "\n",
        "def make_it_play(instrument):\n",
        "    instrument.play()\n",
        "instrument = Instrument()\n",
        "guitar = Guitar()\n",
        "piano = Piano()\n",
        "\n",
        "make_it_play(instrument)\n",
        "make_it_play(guitar)\n",
        "make_it_play(piano)\n"
      ],
      "metadata": {
        "colab": {
          "base_uri": "https://localhost:8080/"
        },
        "id": "mAK--yDEkvRZ",
        "outputId": "7240cdc4-418a-43ff-da47-10b1c9850708"
      },
      "execution_count": null,
      "outputs": [
        {
          "output_type": "stream",
          "name": "stdout",
          "text": [
            "Playing a generic instrument sound.\n",
            "Playing a guitar\n",
            "Playing a piano melody!\n"
          ]
        }
      ]
    },
    {
      "cell_type": "code",
      "source": [
        "#Create a class MathOperations with a class method add_numbers() to add two numbers and a static method subtract_numbers() to subtract two numbers.\n",
        "class MathOperations:\n",
        "    @classmethod\n",
        "    def add_numbers(cls, x, y):\n",
        "        return x + y\n",
        "\n",
        "    @staticmethod\n",
        "    def subtract_numbers(x, y):\n",
        "        return x - y\n",
        "print(\"---- Math Operations ----\")\n",
        "print(MathOperations.add_numbers(5, 3))\n",
        "print(MathOperations.subtract_numbers(10, 4))"
      ],
      "metadata": {
        "colab": {
          "base_uri": "https://localhost:8080/"
        },
        "id": "lsNVsDonxu-C",
        "outputId": "1625d63a-5cb9-4183-aa39-606a0ca788d2"
      },
      "execution_count": null,
      "outputs": [
        {
          "output_type": "stream",
          "name": "stdout",
          "text": [
            "---- Math Operations ----\n",
            "8\n",
            "6\n"
          ]
        }
      ]
    },
    {
      "cell_type": "code",
      "source": [
        "#Implement a class Person with a class method to count the total number of persons created.\n",
        "class PersonCounter:\n",
        "    count = 0\n",
        "\n",
        "    def __init__(self):\n",
        "        PersonCounter.count += 1\n",
        "\n",
        "    @classmethod\n",
        "    def get_total_persons(cls):\n",
        "        return cls.count\n",
        "print(\"\\n---- Person Counter ----\")\n",
        "p1 = PersonCounter()\n",
        "p2 = PersonCounter()\n",
        "p3 = PersonCounter()\n",
        "p4 = PersonCounter()\n",
        "p5 = PersonCounter()\n",
        "p6 = PersonCounter()\n",
        "print(PersonCounter.get_total_persons())"
      ],
      "metadata": {
        "colab": {
          "base_uri": "https://localhost:8080/"
        },
        "id": "diB3fXtIyozw",
        "outputId": "20433669-e063-4d74-b4ca-5f897506405c"
      },
      "execution_count": null,
      "outputs": [
        {
          "output_type": "stream",
          "name": "stdout",
          "text": [
            "\n",
            "---- Person Counter ----\n",
            "6\n"
          ]
        }
      ]
    },
    {
      "cell_type": "code",
      "source": [
        "#Write a class Fraction with attributes numerator and denominator. Override the str method to display the fraction as \"numerator/denominator\".\n",
        "class Fraction:\n",
        "    def __init__(self, numerator, denominator):\n",
        "        self.numerator = numerator\n",
        "        self.denominator = denominator\n",
        "\n",
        "    def __str__(self):\n",
        "        return f\"{self.numerator}/{self.denominator}\"\n",
        "print(\"\\n---- Fraction ----\")\n",
        "f = Fraction(1, 2)\n",
        "print(f)\n",
        "#__str__ method: This allows you to define how to represent objects of your class as strings when you use the print() function."
      ],
      "metadata": {
        "id": "PNx1XRn1tcTN",
        "colab": {
          "base_uri": "https://localhost:8080/"
        },
        "outputId": "526292ff-fe95-4350-f4f1-96f0be72832e"
      },
      "execution_count": 2,
      "outputs": [
        {
          "output_type": "stream",
          "name": "stdout",
          "text": [
            "\n",
            "---- Fraction ----\n",
            "1/2\n"
          ]
        }
      ]
    },
    {
      "cell_type": "code",
      "source": [
        "#Demonstrate operator overloading by creating a class Vector and overriding the add method to add two vectors.\n",
        "class Vector:\n",
        "    def __init__(self, x, y):\n",
        "        self.x = x\n",
        "        self.y = y\n",
        "\n",
        "    def __add__(self, other):\n",
        "        return Vector(self.x + other.x, self.y + other.y)\n",
        "\n",
        "    def __str__(self):\n",
        "       return f\"({self.x}, {self.y})\"\n",
        "print(\"\\n---- Vector ----\")\n",
        "v1 = Vector(2, 3)\n",
        "v2 = Vector(1, 4)\n",
        "v3 = v1 + v2\n",
        "print(v3)\n",
        "#Operator Overloading (__add__): The __add__ method allows you to define what happens when the + operator is used with objects of your class."
      ],
      "metadata": {
        "colab": {
          "base_uri": "https://localhost:8080/"
        },
        "id": "jIu_Eib2MDgc",
        "outputId": "8151eef0-834d-4183-c297-18c66fb9050e"
      },
      "execution_count": 6,
      "outputs": [
        {
          "output_type": "stream",
          "name": "stdout",
          "text": [
            "\n",
            "---- Vector ----\n",
            "(3, 7)\n"
          ]
        }
      ]
    },
    {
      "cell_type": "code",
      "source": [
        "#Create a class Person with attributes name and age. Add a method greet() that prints \"Hello, my name is {name} and I am {age} years old.\"\n",
        "class Person:\n",
        "    def __init__(self, name, age):\n",
        "        self.name = name\n",
        "        self.age = age\n",
        "\n",
        "    def greet(self):\n",
        "        print(f\"Hello, my name is {self.name} and I am {self.age} years old.\")\n",
        "print(\"\\n---- Person ----\")\n",
        "person1 = Person(\"Mansi\", 30)\n",
        "person1.greet()\n"
      ],
      "metadata": {
        "colab": {
          "base_uri": "https://localhost:8080/"
        },
        "id": "oTBX0PCBNiMf",
        "outputId": "1191ca08-6f58-4a9e-b691-ceaa68af4d13"
      },
      "execution_count": 5,
      "outputs": [
        {
          "output_type": "stream",
          "name": "stdout",
          "text": [
            "\n",
            "---- Person ----\n",
            "Hello, my name is Mansi and I am 30 years old.\n"
          ]
        }
      ]
    },
    {
      "cell_type": "code",
      "source": [
        "#Implement a class Student with attributes name and grades. Create a method average_grade() to compute the average of the grades.\n",
        "class Student:\n",
        "    def __init__(self, name, grades):\n",
        "        self.name = name\n",
        "        self.grades = grades\n",
        "\n",
        "    def average_grade(self):\n",
        "        if not self.grades:\n",
        "            return 0\n",
        "        return sum(self.grades) / len(self.grades)\n",
        "print(\"\\n---- Student ----\")\n",
        "student1 = Student(\"Bob\", [80, 90, 75])\n",
        "print(student1.average_grade())"
      ],
      "metadata": {
        "colab": {
          "base_uri": "https://localhost:8080/"
        },
        "id": "rs8g9l_1PZDe",
        "outputId": "c0109f49-6d2b-4509-9a7f-2d812755f589"
      },
      "execution_count": 7,
      "outputs": [
        {
          "output_type": "stream",
          "name": "stdout",
          "text": [
            "\n",
            "---- Student ----\n",
            "81.66666666666667\n"
          ]
        }
      ]
    },
    {
      "cell_type": "code",
      "source": [
        "#Create a class Rectangle with methods set_dimensions() to set the dimensions and area() to calculate the area.\n",
        "class Rectangle:\n",
        "    def __init__(self):\n",
        "        self.length = 0\n",
        "        self.width = 0\n",
        "\n",
        "    def set_dimensions(self, length, width):\n",
        "        self.length = length\n",
        "        self.width = width\n",
        "\n",
        "    def area(self):\n",
        "        return self.length * self.width\n",
        "print(\"\\n---- Rectangle ----\")\n",
        "rect = Rectangle()\n",
        "rect.set_dimensions(5, 10)\n",
        "print(rect.area())"
      ],
      "metadata": {
        "colab": {
          "base_uri": "https://localhost:8080/"
        },
        "id": "_2IJdjx7Omw4",
        "outputId": "785d0a3b-6f1c-4056-a7b9-f4256a856d5f"
      },
      "execution_count": 8,
      "outputs": [
        {
          "output_type": "stream",
          "name": "stdout",
          "text": [
            "\n",
            "---- Rectangle ----\n",
            "50\n"
          ]
        }
      ]
    },
    {
      "cell_type": "code",
      "source": [
        "#Create a class Employee with a method calculate_salary() that computes the salary based on hours worked and hourly rate. Create a derived class Manager that adds a bonus to the salary.\n",
        "class Employee:\n",
        "    def __init__(self, hourly_rate):\n",
        "       self.hourly_rate = hourly_rate\n",
        "\n",
        "    def calculate_salary(self, hours_worked):\n",
        "        return self.hourly_rate * hours_worked\n",
        "\n",
        "class Manager(Employee):\n",
        "    def __init__(self, hourly_rate, bonus):\n",
        "        super().__init__(hourly_rate)\n",
        "        self.bonus = bonus\n",
        "\n",
        "    def calculate_salary(self, hours_worked):\n",
        "        base_salary = super().calculate_salary(hours_worked)\n",
        "        return base_salary + self.bonus\n",
        "print(\"\\n---- Employee & Manager ----\")\n",
        "emp = Employee(20)\n",
        "print(emp.calculate_salary(40))\n",
        "man = Manager(25, 100)\n",
        "print(man.calculate_salary(40))"
      ],
      "metadata": {
        "colab": {
          "base_uri": "https://localhost:8080/"
        },
        "id": "sku2q-sLZm0U",
        "outputId": "70b3727b-dbeb-45de-a5c3-d9f15b24bc8b"
      },
      "execution_count": 9,
      "outputs": [
        {
          "output_type": "stream",
          "name": "stdout",
          "text": [
            "\n",
            "---- Employee & Manager ----\n",
            "800\n",
            "1100\n"
          ]
        }
      ]
    },
    {
      "cell_type": "code",
      "source": [
        "#Create a class Product with attributes name, price, and quantity. Implement a method total_price() that calculates the total price of the product.\n",
        "class Product:\n",
        "    def __init__(self, name, price, quantity):\n",
        "        self.name = name\n",
        "        self.price = price\n",
        "        self.quantity = quantity\n",
        "\n",
        "    def total_price(self):\n",
        "        return self.price * self.quantity\n",
        "print(\"\\n---- Product ----\")\n",
        "prod = Product(\"Laptop\", 1200, 2)\n",
        "print(prod.total_price())"
      ],
      "metadata": {
        "colab": {
          "base_uri": "https://localhost:8080/"
        },
        "id": "GqMsq03ycj1S",
        "outputId": "30e66a7e-16ba-4e88-9f4b-9c8294636bbd"
      },
      "execution_count": 10,
      "outputs": [
        {
          "output_type": "stream",
          "name": "stdout",
          "text": [
            "\n",
            "---- Product ----\n",
            "2400\n"
          ]
        }
      ]
    },
    {
      "cell_type": "code",
      "source": [
        "#Create a class House with attributes address and price. Create a derived class Mansion that adds an attribute number_of_rooms\n",
        "class House:\n",
        "    def __init__(self, address, price):\n",
        "        self.address = address\n",
        "        self.price = price\n",
        "\n",
        "class Mansion(House):\n",
        "    def __init__(self, address, price, number_of_rooms):\n",
        "        super().__init__(address, price)\n",
        "        self.number_of_rooms = number_of_rooms\n",
        "print(\"\\n---- House & Mansion ----\")\n",
        "house = House(\"21A/B Gandhi nagar Jammu\", 200000)\n",
        "mansion = Mansion(\"45 sec Mayur vihar Delhi\", 1000000, 10)\n",
        "print(mansion.address)\n",
        "print(mansion.number_of_rooms)"
      ],
      "metadata": {
        "colab": {
          "base_uri": "https://localhost:8080/"
        },
        "id": "VE_N21Vjfsva",
        "outputId": "a7165729-4d15-41c6-8934-2e656c7a959d"
      },
      "execution_count": 17,
      "outputs": [
        {
          "output_type": "stream",
          "name": "stdout",
          "text": [
            "\n",
            "---- House & Mansion ----\n",
            "45 sec Mayur vihar Delhi\n",
            "10\n"
          ]
        }
      ]
    },
    {
      "cell_type": "code",
      "source": [
        "#Create a class Animal with an abstract method sound(). Create two derived classes Cow and Sheep that implement the sound() method\n",
        "from abc import ABC, abstractmethod\n",
        "class Animal(ABC):\n",
        "    @abstractmethod\n",
        "    def sound(self):\n",
        "        pass\n",
        "\n",
        "class Cow(Animal):\n",
        "    def sound(self):\n",
        "        return \"Moo\"\n",
        "\n",
        "class Sheep(Animal):\n",
        "    def sound(self):\n",
        "        return \"Baa\"\n",
        "print(\"\\n---- Animal ----\")\n",
        "cow = Cow()\n",
        "sheep = Sheep()\n",
        "print(cow.sound())\n",
        "print(sheep.sound())"
      ],
      "metadata": {
        "colab": {
          "base_uri": "https://localhost:8080/"
        },
        "id": "d8BtVpkbdXug",
        "outputId": "073924a7-4292-4ae6-a60b-42a76afdffdd"
      },
      "execution_count": 11,
      "outputs": [
        {
          "output_type": "stream",
          "name": "stdout",
          "text": [
            "\n",
            "---- Animal ----\n",
            "Moo\n",
            "Baa\n"
          ]
        }
      ]
    },
    {
      "cell_type": "markdown",
      "source": [],
      "metadata": {
        "id": "MwX-WfDNPzxv"
      }
    },
    {
      "cell_type": "code",
      "source": [
        "#Create a class Book with attributes title, author, and year_published. Add a method get_book_info() that returns a formatted string with the book's details\n",
        "class Book:\n",
        "    def __init__(self, title, author, year_published):\n",
        "        self.title = title\n",
        "        self.author = author\n",
        "        self.year_published = year_published\n",
        "\n",
        "    def get_book_info(self):\n",
        "        return f\"Title: {self.title}\\nAuthor: {self.author}\\nYear Published: {self.year_published}\"\n",
        "print(\"\\n---- Book ----\")\n",
        "book = Book(\"ML\", \"Mr.prakash\", 2000)\n",
        "print(book.get_book_info())"
      ],
      "metadata": {
        "id": "SrGS8zl9ktk5",
        "colab": {
          "base_uri": "https://localhost:8080/"
        },
        "outputId": "2537e748-6120-4767-cf87-08372726b243"
      },
      "execution_count": 12,
      "outputs": [
        {
          "output_type": "stream",
          "name": "stdout",
          "text": [
            "\n",
            "---- Book ----\n",
            "Title: ML\n",
            "Author: Mr.prakash\n",
            "Year Published: 2000\n"
          ]
        }
      ]
    }
  ]
}