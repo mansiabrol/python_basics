{
  "nbformat": 4,
  "nbformat_minor": 0,
  "metadata": {
    "colab": {
      "provenance": []
    },
    "kernelspec": {
      "name": "python3",
      "display_name": "Python 3"
    },
    "language_info": {
      "name": "python"
    }
  },
  "cells": [
    {
      "cell_type": "markdown",
      "source": [
        "# python_basics"
      ],
      "metadata": {
        "id": "1OANvQzGWWXk"
      }
    },
    {
      "cell_type": "markdown",
      "source": [
        "1. What is Python, and why is it popular?\n",
        "\n",
        "- Python is a high-level, general-purpose programming language known for its clear syntax and readability.\n",
        "-  It's used in a wide range of applications, including web development, data science, machine learning, scripting, automation, and more.\n",
        "- A vast community provides ample support, libraries, and frameworks.\n",
        "- Python boasts a rich ecosystem of libraries (pre-built modules) that handle complex tasks, saving developers time and effort. Examples include NumPy (numerical computing), Pandas (data manipulation), and TensorFlow/PyTorch (machine learning).\n",
        "-Python code can run on various operating systems (Windows, macOS, Linux).\n",
        "\n",
        "2. What is an interpreter in Python?\n",
        "- An interpreter is a program that executes Python code line by line. Unlike compiled languages (like C++), where the entire code is translated into machine code before execution,\n",
        "- Python's interpreter reads and executes the code directly. This allows for faster development and easier debugging, but generally results in slower execution speeds compared to compiled languages.\n",
        "\n",
        "3. What are pre-defined keywords in Python?\n",
        "\n",
        "- Keywords are reserved words in Python that have special meanings and cannot be used as variable names or identifiers. Examples include:\n",
        "\n",
        "if, else, elif, for, while, def, class, import, return, True, False, None, and, or, not, in, is, etc\n",
        "\n",
        "4. Can keywords be used as variable names?\n",
        "\n",
        "- No, keywords cannot be used as variable names.\n",
        "- The Python interpreter will raise a syntax error if you try to do so.\n",
        "\n",
        "5. What is mutability in Python?\n",
        "\n",
        "- Mutability refers to the ability of an object to change its value after it's created.\n",
        "- Mutable objects can be modified, while immutable objects cannot.\n",
        "\n",
        "6. Why are lists mutable, but tuples are immutable?\n",
        "\n",
        "- Lists ([]) are mutable because they are designed to be easily modified.\n",
        "- You can add, remove, or change elements within a list after it's created.\n",
        "- This flexibility makes them suitable for scenarios where data needs to be dynamically updated.\n",
        "\n",
        "- Tuples (()) are immutable. Once a tuple is created, its contents cannot be changed.\n",
        "- This immutability provides data integrity\n",
        "- They are often used to represent fixed collections of data.\n",
        "\n",
        "7. What is the difference between “==” and “is” operators in Python?\n",
        "\n",
        "- == (equality operator): Compares the values of two objects. It checks if the objects have the same content.\n",
        "\n",
        "- is (identity operator): Compares the memory addresses (identity) of two objects. It checks if two variables refer to the exact same object in memory,even the values or content inside are same or not ,that not matters\n",
        "\n",
        "Example:\n",
        "\n",
        "list1 = [1, 2, 3]\n",
        "list2 = [1, 2, 3]\n",
        "list3 = list1\n",
        "\n",
        "print(list1 == list2)  # True (values are equal)\n",
        "print(list1 is list2)  # False (different memory addresses)\n",
        "print(list1 is list3)  # True (same memory address)\n",
        "print(list2 is list3)  # False (not same memory address even the content inside are same)\n",
        "\n",
        "\n",
        "8. What are logical operators in Python?\n",
        "\n",
        "Logical operators combine Boolean expressions (expressions that evaluate to True or False). Python's logical operators are:\n",
        "\n",
        "and: Returns True if both operands are True.\n",
        "\n",
        "or: Returns True if at least one operand is True.\n",
        "\n",
        "not: Inverts the Boolean value of its operand (True becomes False, and vice-versa).\n",
        "\n",
        "9. What is type casting in Python?\n",
        "\n",
        "Type casting (or type conversion) is the process of changing an object's data type from one type to another.\n",
        "\n",
        "10. What is the difference between implicit and explicit type casting?\n",
        "\n",
        "- Explicit type casting: You explicitly tell Python to convert the data type using built-in functions like int(), float(), str(), etc.\n",
        "- Example: x = int(\"10\") converts the string \"10\" into an integer.\n",
        "\n",
        "- Implicit type casting: Python automatically performs type casting in certain situations.  \n",
        "- For example, adding an integer and a float will implicitly convert the integer to a float before performing the addition.\n",
        "\n",
        "11. What is the purpose of conditional statements in Python?\n",
        "\n",
        "Conditional statements (like if, elif, and else) allow you to control - the flow of your program based on certain conditions.\n",
        "-They let you execute different blocks of code depending on whether a condition is True or False.\n",
        "\n",
        "12. How does the elif statement work?\n",
        "\n",
        "- elif (else if) is used to check multiple conditions sequentially.\n",
        "- If the if condition is False, Python checks the elif condition(s).\n",
        "- If any elif condition is True, its corresponding code block is executed.\n",
        "- If none of the if or elif conditions are True, the else block (if present) is executed.\n",
        "\n",
        "13. What is the difference between for and while loops?\n",
        "\n",
        "for loop: Iterates over a sequence (like a list, tuple, string, or range) or other iterable object. It's used when you know the number of iterations in advance.\n",
        "\n",
        "while loop: Repeats a block of code as long as a condition is True. It's used when the number of iterations is not known beforehand and depends on a condition being met.\n",
        "\n",
        "14. Describe a scenario where a while loop is more suitable than a for loop.\n",
        "\n",
        "- A scenario where a while loop is more suitable: Imagine a game where the user needs to guess a number. You don't know how many attempts the user will take; it depends on when they guess correctly. A while loop would be ideal:\n",
        "\n",
        "secret_number = 7\n",
        "\n",
        "guess = 0\n",
        "\n",
        "while guess != secret_number:\n",
        "\n",
        "    guess = int(input(\"Guess the number: \"))\n",
        "\n",
        "    if guess < secret_number:\n",
        "\n",
        "        print(\"Too low!\")\n",
        "\n",
        "    elif guess > secret_number:\n",
        "\n",
        "        print(\"Too high!\")\n",
        "        \n",
        "print(\"You got it!\")\n",
        "\n",
        "In this case, a for loop wouldn't be appropriate because the number of iterations is not predetermined. The loop continues until the user guesses the correct number."
      ],
      "metadata": {
        "id": "GLoCHi90W6a0"
      }
    },
    {
      "cell_type": "code",
      "execution_count": null,
      "metadata": {
        "id": "a6_UZLYoVe9q",
        "colab": {
          "base_uri": "https://localhost:8080/"
        },
        "outputId": "ac090c9c-005f-43af-ef58-39ad4e773886"
      },
      "outputs": [
        {
          "output_type": "stream",
          "name": "stdout",
          "text": [
            "Guess the number: 6\n",
            "Too low!\n",
            "Guess the number: 8\n",
            "Too high!\n",
            "Guess the number: 7\n",
            "You got it!\n"
          ]
        }
      ],
      "source": [
        "secret_number = 7\n",
        "guess = 0\n",
        "\n",
        "while guess != secret_number:\n",
        "    guess = int(input(\"Guess the number: \"))\n",
        "    if guess < secret_number:\n",
        "        print(\"Too low!\")\n",
        "    elif guess > secret_number:\n",
        "        print(\"Too high!\")\n",
        "print(\"You got it!\")#"
      ]
    },
    {
      "cell_type": "markdown",
      "source": [],
      "metadata": {
        "id": "YE4zCl9PV9WD"
      }
    },
    {
      "cell_type": "code",
      "source": [
        "#  Write a Python program to print \"Hello, World!\"\n",
        "print(\"Hello, World!\")"
      ],
      "metadata": {
        "colab": {
          "base_uri": "https://localhost:8080/"
        },
        "id": "h1wdKk5hkFyW",
        "outputId": "c1ba4e02-01e7-43cc-f327-09273165328d"
      },
      "execution_count": 11,
      "outputs": [
        {
          "output_type": "stream",
          "name": "stdout",
          "text": [
            "Hello, World!\n"
          ]
        }
      ]
    },
    {
      "cell_type": "code",
      "source": [
        "#  Write a Python program that displays your name and age\n",
        "name = input(\"Enter your name: \")\n",
        "age = int(input(\"Enter your age: \"))\n",
        "print(f\"My name is {name} and I am {age} years old.\")\n"
      ],
      "metadata": {
        "colab": {
          "base_uri": "https://localhost:8080/"
        },
        "id": "46bJxAnGmLmQ",
        "outputId": "8db79bd8-a35b-4b6d-c5e6-478e12dc2f64"
      },
      "execution_count": 12,
      "outputs": [
        {
          "output_type": "stream",
          "name": "stdout",
          "text": [
            "Enter your name: Mansi\n",
            "Enter your age: 38\n",
            "My name is Mansi and I am 38 years old.\n"
          ]
        }
      ]
    },
    {
      "cell_type": "code",
      "source": [
        "#  Write code to print all the pre-defined keywords in Python using the keyword library\n",
        "import keyword\n",
        "print(keyword.kwlist)\n"
      ],
      "metadata": {
        "colab": {
          "base_uri": "https://localhost:8080/"
        },
        "id": "aWFm4QofnU5m",
        "outputId": "66375002-ff29-46e6-9591-66346bd74efe"
      },
      "execution_count": 15,
      "outputs": [
        {
          "output_type": "stream",
          "name": "stdout",
          "text": [
            "['False', 'None', 'True', 'and', 'as', 'assert', 'async', 'await', 'break', 'class', 'continue', 'def', 'del', 'elif', 'else', 'except', 'finally', 'for', 'from', 'global', 'if', 'import', 'in', 'is', 'lambda', 'nonlocal', 'not', 'or', 'pass', 'raise', 'return', 'try', 'while', 'with', 'yield']\n"
          ]
        }
      ]
    },
    {
      "cell_type": "code",
      "source": [
        "#  Create a list and tuple in Python, and demonstrate how attempting to change an element works differently for each\n",
        "my_list = [1, 2, 3]\n",
        "my_tuple = (1, 2, 3)\n",
        "my_list[0] = 10  # This works\n",
        "print(\"Modified list:\", my_list)\n",
        "my_tuple[0] = 10  # This will raise an error\n",
        "print(\"Modified tuple:\", my_tuple)"
      ],
      "metadata": {
        "colab": {
          "base_uri": "https://localhost:8080/",
          "height": 220
        },
        "id": "O8ytslcHokHd",
        "outputId": "48dd5051-c494-41b7-ecc2-edcecf727bde"
      },
      "execution_count": 16,
      "outputs": [
        {
          "output_type": "stream",
          "name": "stdout",
          "text": [
            "Modified list: [10, 2, 3]\n"
          ]
        },
        {
          "output_type": "error",
          "ename": "TypeError",
          "evalue": "'tuple' object does not support item assignment",
          "traceback": [
            "\u001b[0;31m---------------------------------------------------------------------------\u001b[0m",
            "\u001b[0;31mTypeError\u001b[0m                                 Traceback (most recent call last)",
            "\u001b[0;32m<ipython-input-16-d8edbda040d4>\u001b[0m in \u001b[0;36m<cell line: 6>\u001b[0;34m()\u001b[0m\n\u001b[1;32m      4\u001b[0m \u001b[0mmy_list\u001b[0m\u001b[0;34m[\u001b[0m\u001b[0;36m0\u001b[0m\u001b[0;34m]\u001b[0m \u001b[0;34m=\u001b[0m \u001b[0;36m10\u001b[0m  \u001b[0;31m# This works\u001b[0m\u001b[0;34m\u001b[0m\u001b[0;34m\u001b[0m\u001b[0m\n\u001b[1;32m      5\u001b[0m \u001b[0mprint\u001b[0m\u001b[0;34m(\u001b[0m\u001b[0;34m\"Modified list:\"\u001b[0m\u001b[0;34m,\u001b[0m \u001b[0mmy_list\u001b[0m\u001b[0;34m)\u001b[0m\u001b[0;34m\u001b[0m\u001b[0;34m\u001b[0m\u001b[0m\n\u001b[0;32m----> 6\u001b[0;31m \u001b[0mmy_tuple\u001b[0m\u001b[0;34m[\u001b[0m\u001b[0;36m0\u001b[0m\u001b[0;34m]\u001b[0m \u001b[0;34m=\u001b[0m \u001b[0;36m10\u001b[0m  \u001b[0;31m# This will raise an error\u001b[0m\u001b[0;34m\u001b[0m\u001b[0;34m\u001b[0m\u001b[0m\n\u001b[0m\u001b[1;32m      7\u001b[0m \u001b[0mprint\u001b[0m\u001b[0;34m(\u001b[0m\u001b[0;34m\"Modified tuple:\"\u001b[0m\u001b[0;34m,\u001b[0m \u001b[0mmy_tuple\u001b[0m\u001b[0;34m)\u001b[0m\u001b[0;34m\u001b[0m\u001b[0;34m\u001b[0m\u001b[0m\n",
            "\u001b[0;31mTypeError\u001b[0m: 'tuple' object does not support item assignment"
          ]
        }
      ]
    },
    {
      "cell_type": "code",
      "source": [
        "#  Write a function to demonstrate the behavior of mutable and immutable arguments\n",
        "def modify_list(my_list):\n",
        "    my_list.append(4)  # Modifies the original list\n",
        "    print(my_list)\n",
        "my_list = [1, 2, 3] # original list\n",
        "modify_list(my_list)\n",
        "print(\"List after modification:\", my_list)  # Output: [1, 2, 3, 4]\n",
        "\n",
        "def modify_number(x):\n",
        "    x = 10 # Does not modify the original variable\n",
        "\n",
        "#x = 5\n",
        "modify_number(5)\n",
        "print(\"Number after modification:\", x)  # Output: 5\n"
      ],
      "metadata": {
        "colab": {
          "base_uri": "https://localhost:8080/"
        },
        "id": "MmFvgy-SqVLI",
        "outputId": "105f5616-c472-4cca-d376-90a6d0b41dae"
      },
      "execution_count": 20,
      "outputs": [
        {
          "output_type": "stream",
          "name": "stdout",
          "text": [
            "[1, 2, 3, 4]\n",
            "List after modification: [1, 2, 3, 4]\n",
            "Number after modification: 5\n"
          ]
        }
      ]
    },
    {
      "cell_type": "code",
      "source": [
        "#  Write a program to demonstrate the use of logical operators\n",
        "a = True\n",
        "b = False\n",
        "\n",
        "print(f\"a and b: {a and b}\")  # False\n",
        "print(f\"a or b: {a or b}\")  # True\n",
        "print(f\"not a: {not a}\")  # False"
      ],
      "metadata": {
        "colab": {
          "base_uri": "https://localhost:8080/"
        },
        "id": "0w0ONgvCupkR",
        "outputId": "549973fe-4ca5-4f33-af1e-7f960f908690"
      },
      "execution_count": 21,
      "outputs": [
        {
          "output_type": "stream",
          "name": "stdout",
          "text": [
            "a and b: False\n",
            "a or b: True\n",
            "not a: False\n"
          ]
        }
      ]
    },
    {
      "cell_type": "code",
      "source": [
        "#  Write a program that checks if a given word is a Python keyword\n",
        "import keyword\n",
        "#dir(keyword)\n",
        "w='while'\n",
        "if keyword.iskeyword(w):\n",
        "  print('it is a keyword')\n",
        "else:\n",
        "   print('it is not a keyword')\n"
      ],
      "metadata": {
        "colab": {
          "base_uri": "https://localhost:8080/"
        },
        "id": "DIrDB6d8klxT",
        "outputId": "5904501a-e1cc-42ba-8d2b-112bf029c924"
      },
      "execution_count": 22,
      "outputs": [
        {
          "output_type": "stream",
          "name": "stdout",
          "text": [
            "it is a keyword\n"
          ]
        }
      ]
    },
    {
      "cell_type": "code",
      "source": [
        "import string\n",
        "#dir(string)\n",
        "s='mansi;?'\n",
        "for i in s:\n",
        "  if i in string.punctuation:\n",
        "    print(i)\n",
        "#print(s.punctuation())"
      ],
      "metadata": {
        "colab": {
          "base_uri": "https://localhost:8080/"
        },
        "id": "0hndslO5hY-b",
        "outputId": "03fc9537-bdc6-43cd-cdc1-b26be43708c1"
      },
      "execution_count": 7,
      "outputs": [
        {
          "output_type": "stream",
          "name": "stdout",
          "text": [
            ";\n",
            "?\n"
          ]
        }
      ]
    },
    {
      "cell_type": "code",
      "source": [
        "#  Write code to demonstrate type casting with list elements\n",
        "\n",
        "my_list = [1, \"2\", 3.0, True]\n",
        "for i in my_list:\n",
        "  if isinstance(i,(int,float,str)):\n",
        "\n",
        "    print(int(i))\n",
        "\n",
        "print(new_list)"
      ],
      "metadata": {
        "colab": {
          "base_uri": "https://localhost:8080/"
        },
        "id": "-e1GlHxyicS-",
        "outputId": "c944aa60-56a7-4062-cc5d-61504477a4cd"
      },
      "execution_count": 29,
      "outputs": [
        {
          "output_type": "stream",
          "name": "stdout",
          "text": [
            "1\n",
            "2\n",
            "3\n",
            "1\n",
            "[1, 2, 3, 1]\n"
          ]
        }
      ]
    },
    {
      "cell_type": "code",
      "source": [
        "# Write a program that checks if a number is positive, negative, or zero\n",
        "number = int(input(\"Enter a number: \"))\n",
        "if number > 0:\n",
        "    print(\"Positive\")\n",
        "elif number < 0:\n",
        "    print(\"Negative\")\n",
        "else:\n",
        "    print(\"Zero\")\n"
      ],
      "metadata": {
        "colab": {
          "base_uri": "https://localhost:8080/"
        },
        "id": "buBziZaZ2okB",
        "outputId": "911e1481-8f8a-4fe4-a3f1-4e4a405818de"
      },
      "execution_count": 36,
      "outputs": [
        {
          "output_type": "stream",
          "name": "stdout",
          "text": [
            "Enter a number: 5\n",
            "Positive\n"
          ]
        }
      ]
    },
    {
      "cell_type": "code",
      "source": [
        "# Write a for loop to print numbers from 1 to 100\n",
        "for i in range(1, 101):\n",
        "    print(i)"
      ],
      "metadata": {
        "colab": {
          "base_uri": "https://localhost:8080/"
        },
        "id": "ywiaNjm33rRW",
        "outputId": "fd9d9e4f-e135-4f82-adef-ae52132610b7"
      },
      "execution_count": 37,
      "outputs": [
        {
          "output_type": "stream",
          "name": "stdout",
          "text": [
            "1\n",
            "2\n",
            "3\n",
            "4\n",
            "5\n",
            "6\n",
            "7\n",
            "8\n",
            "9\n",
            "10\n",
            "11\n",
            "12\n",
            "13\n",
            "14\n",
            "15\n",
            "16\n",
            "17\n",
            "18\n",
            "19\n",
            "20\n",
            "21\n",
            "22\n",
            "23\n",
            "24\n",
            "25\n",
            "26\n",
            "27\n",
            "28\n",
            "29\n",
            "30\n",
            "31\n",
            "32\n",
            "33\n",
            "34\n",
            "35\n",
            "36\n",
            "37\n",
            "38\n",
            "39\n",
            "40\n",
            "41\n",
            "42\n",
            "43\n",
            "44\n",
            "45\n",
            "46\n",
            "47\n",
            "48\n",
            "49\n",
            "50\n",
            "51\n",
            "52\n",
            "53\n",
            "54\n",
            "55\n",
            "56\n",
            "57\n",
            "58\n",
            "59\n",
            "60\n",
            "61\n",
            "62\n",
            "63\n",
            "64\n",
            "65\n",
            "66\n",
            "67\n",
            "68\n",
            "69\n",
            "70\n",
            "71\n",
            "72\n",
            "73\n",
            "74\n",
            "75\n",
            "76\n",
            "77\n",
            "78\n",
            "79\n",
            "80\n",
            "81\n",
            "82\n",
            "83\n",
            "84\n",
            "85\n",
            "86\n",
            "87\n",
            "88\n",
            "89\n",
            "90\n",
            "91\n",
            "92\n",
            "93\n",
            "94\n",
            "95\n",
            "96\n",
            "97\n",
            "98\n",
            "99\n",
            "100\n"
          ]
        }
      ]
    },
    {
      "cell_type": "code",
      "source": [
        "#  Write a Python program to find the sum of all even numbers between 1 and 500\n",
        "total = 0\n",
        "for i in range(2, 501, 2):  # Start at 2, increment by 2\n",
        "    total = total + i\n",
        "print(f\"Sum is: {total}\")\n"
      ],
      "metadata": {
        "colab": {
          "base_uri": "https://localhost:8080/"
        },
        "id": "8WlNivAc30iN",
        "outputId": "936e2a82-b44f-4de7-c6b2-9e2f897fc23a"
      },
      "execution_count": 39,
      "outputs": [
        {
          "output_type": "stream",
          "name": "stdout",
          "text": [
            "Sum is: 62750\n"
          ]
        }
      ]
    },
    {
      "cell_type": "code",
      "source": [
        "#  Write a program to reverse a string using a while loop\n",
        "string = input(\"Enter a string: \")\n",
        "rev = \"\"\n",
        "i=1\n",
        "while i <= len(string):\n",
        "    rev = rev + string[len(string)-i]\n",
        "    i = i + 1\n",
        "print(f\"Reversed string: {rev}\")"
      ],
      "metadata": {
        "colab": {
          "base_uri": "https://localhost:8080/"
        },
        "id": "uLUEm85r4ki9",
        "outputId": "bffa3e55-2145-4732-df1c-d2eb244a1e62"
      },
      "execution_count": 42,
      "outputs": [
        {
          "output_type": "stream",
          "name": "stdout",
          "text": [
            "Enter a string: mansi\n",
            "Reversed string: isnam\n"
          ]
        }
      ]
    },
    {
      "cell_type": "code",
      "source": [
        "#  Write a Python program to calculate the factorial of a number provided by the user using a while loop.\n",
        "number = int(input(\"Enter a non-negative integer: \"))\n",
        "if number < 0:\n",
        "    print(\"Factorial is not defined for negative numbers.\")\n",
        "elif number == 0:\n",
        "    print(\"Factorial of 0 is 1\")\n",
        "else:\n",
        "    factorial = 1\n",
        "    i = 1\n",
        "    while i <= number:\n",
        "        factorial *= i\n",
        "        i += 1\n",
        "    print(f\"Factorial of {number} is {factorial}\")"
      ],
      "metadata": {
        "colab": {
          "base_uri": "https://localhost:8080/"
        },
        "id": "cuTvIOaO6RXP",
        "outputId": "e9feb299-bbef-4b8d-9b85-dfe771fc53fd"
      },
      "execution_count": 46,
      "outputs": [
        {
          "output_type": "stream",
          "name": "stdout",
          "text": [
            "Enter a non-negative integer: 5\n",
            "Factorial of 5 is 120\n"
          ]
        }
      ]
    }
  ]
}