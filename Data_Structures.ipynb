{
  "nbformat": 4,
  "nbformat_minor": 0,
  "metadata": {
    "colab": {
      "provenance": []
    },
    "kernelspec": {
      "name": "python3",
      "display_name": "Python 3"
    },
    "language_info": {
      "name": "python"
    }
  },
  "cells": [
    {
      "cell_type": "markdown",
      "source": [
        "# Data Structures"
      ],
      "metadata": {
        "id": "jJ8n1qETu7p3"
      }
    },
    {
      "cell_type": "markdown",
      "source": [
        "1. What are data structures, and why are they important?\n",
        "\n",
        "- Data structures are ways of organizing and storing data in a computer so that it can be used efficiently. They define how data is connected and accessed. The choice of data structure significantly impacts the performance of algorithms that use that data. They are crucial because:\n",
        "\n",
        "- Efficiency: Different data structures are optimized for different operations (e.g., searching, sorting, inserting, deleting). Choosing the right one drastically improves performance.\n",
        "\n",
        "- Organization: They provide a structured way to manage data, making it easier to understand, manipulate, and retrieve.\n",
        "\n",
        "- Memory Management: Efficient data structures minimize the amount of memory used.\n",
        "\n",
        "2. Explain the difference between mutable and immutable data types with examples.\n",
        "\n",
        "- Mutable: Mutable data types can be changed after they are created.\n",
        "\n",
        "Example (Python): Lists, dictionaries, sets.\n",
        "\n",
        "my_list = [1, 2, 3]\n",
        "\n",
        "my_list.append(4) # Modifies the list in place\n",
        "\n",
        "print(my_list) # Output: [1, 2, 3, 4]\n",
        "\n",
        "\n",
        "Immutable: Immutable data types cannot be changed after creation. If you try to \"modify\" them, you actually create a new object.\n",
        "\n",
        "Example (Python): Tuples, strings, integers, floats.\n",
        "\n",
        "my_string = \"hello\"\n",
        "\n",
        "my_string[0] = \"H\"  # This would raise a TypeError\n",
        "\n",
        "new_string = \"H\" + my_string[1:] #Creates a new string\n",
        "\n",
        "print(new_string) # Output: Hello\n",
        "\n",
        "\n",
        "3. What are the main differences between lists and tuples in Python?\n",
        "\n",
        "   Feature      \tList\t     Tuple\n",
        "- Mutability\t Mutable\t   Immutable\n",
        "- Syntax\t        []\t       ()\n",
        "- Use Cases\n",
        "1. list:Storing ordered collections that might change\n",
        "2. tuples:  Storing ordered collections that shouldn't change\n",
        "- Performance\n",
        "1.list:\tSlightly slower (due to mutability overhead)\n",
        "2.Tuple:Slightly faster (because they are immutable)\n",
        "\n",
        "4. Describe how dictionaries store data.\n",
        "\n",
        "- Dictionaries store data in key-value pairs.\n",
        "- Each key is unique and is used to access its associated value.\n",
        "-  They use a hash table for efficient key lookups.\n",
        "\n",
        "5. Why might you use a set instead of a list in Python?\n",
        "\n",
        "Use a set when:\n",
        "\n",
        "- Uniqueness is important: Sets automatically eliminate duplicate values.\n",
        "\n",
        "- Membership testing is frequent: Checking if an element is in a set is very fast (O(1) on average).\n",
        "\n",
        "6. What is a string in Python, and how is it different from a list?\n",
        "\n",
        "- A string is an immutable sequence of characters.\n",
        "- A list is a mutable sequence of items (which can be of any data type).\n",
        "- Strings are specialized for text manipulation, while lists are more general-purpose containers.\n",
        "\n",
        "7. How do tuples ensure data integrity in Python?\n",
        "\n",
        "- In Tuples' immutability ensures data integrity.\n",
        "- Once a tuple is created, its elements cannot be modified, preventing accidental data corruption.\n",
        "\n",
        "8. What is a hash table, and how does it relate to dictionaries in Python?\n",
        "\n",
        "- A hash table is a data structure that uses a hash function to map keys to indices in an array.\n",
        "- This allows for very fast average-case lookups, insertions, and deletions (O(1) time complexity).\n",
        "-  Python dictionaries use hash tables internally to implement their key-value storage.\n",
        "\n",
        "9. Can lists contain different data types in Python?\n",
        "\n",
        "- Yes, Python lists are heterogeneous; they can hold elements of different data types (integers, strings, floats, other lists, etc.) within the same list.\n",
        "\n",
        "10. Explain why strings are immutable in Python.\n",
        "\n",
        "- String immutability simplifies implementation and improves performance in several ways:\n",
        "\n",
        "- Thread safety: Multiple threads can access and manipulate strings concurrently without risk of data corruption.\n",
        "\n",
        "- Caching: Immutable strings can be shared efficiently in memory.\n",
        "\n",
        "- Security: Prevents unintentional modification of string data.\n",
        "\n",
        "11. What advantages do dictionaries offer over lists for certain tasks?\n",
        "\n",
        "-Dictionaries provide fast lookups by key (O(1) on average), while lists require linear search (O(n)).\n",
        "- Dictionaries are ideal when you need to access data quickly using a unique identifier (the key).\n",
        "\n",
        "12. Describe a scenario where using a tuple would be preferable over a list.\n",
        "\n",
        "- Representing fixed data: When you have a collection of items that should never change after creation, a tuple ensures data integrity. For example:\n",
        "\n",
        "- Geographic coordinates: A tuple (latitude, longitude) is ideal because the coordinates shouldn't be modified after they're defined.\n",
        "\n",
        "- RGB color values: (red, green, blue) The color components shouldn't change.\n",
        "\n",
        "- Database records: If you retrieve a record from a database and want to prevent accidental modification of that record's values within your program, using a tuple is a good choice.\n",
        "\n",
        "\n",
        "- Using tuples as dictionary keys: Because tuples are immutable and hashable, they can serve as keys in dictionaries, while lists cannot (lists are mutable, so they can't be hashed reliably). This allows you to use more complex keys. For example:\n",
        "\n",
        "my_dict =\n",
        "{\n",
        "    ('Alice', 25): {'city': 'New York', 'country': 'USA'},\n",
        "    ('Bob', 30): {'city': 'London', 'country': 'UK'}\n",
        "\n",
        "\n",
        "\n",
        "13. How do sets handle duplicate values in Python?\n",
        "\n",
        "- Sets automatically discard duplicate values, ensuring that each element is unique.\n",
        "\n",
        "14. How does the “in” keyword work differently for lists and dictionaries?\n",
        "\n",
        "- Lists: The in keyword performs a linear search, checking each element sequentially (O(n) time complexity).\n",
        "\n",
        "- Dictionaries: The in keyword checks if a key exists, using the hash table's fast lookup (O(1) average time complexity).\n",
        "\n",
        "15. Can you modify the elements of a tuple? Explain why or why not.\n",
        "\n",
        "- No. Tuples are immutable. Attempting to modify a tuple element raises a TypeError.\n",
        "\n",
        "16. What is a nested dictionary, and give an example of its use case.\n",
        "\n",
        "- A nested dictionary is a dictionary where the values are themselves dictionaries.\n",
        "- This is useful for representing hierarchical data.\n",
        "\n",
        "# Example: Storing student information\n",
        "students = {\n",
        "    \"Alice\": {\"age\": 20, \"grades\": {\"math\": 90, \"science\": 85}},\n",
        "    \"Bob\": {\"age\": 22, \"grades\": {\"math\": 80, \"history\": 95}}\n",
        "}\n",
        "\n",
        "17. Describe the time complexity of accessing elements in a dictionary.\n",
        "\n",
        "- Average-case time complexity for accessing an element in a dictionary is O(1) (constant time) thanks to the underlying hash table.\n",
        "-  Worst-case time complexity can be O(n) in cases of hash collisions, but this is rare with good hash functions.\n",
        "\n",
        "18. In what situations are lists preferred over dictionaries?\n",
        "\n",
        "- Use lists when:\n",
        "\n",
        "-  Order matters: Lists maintain the order of elements.\n",
        "\n",
        "- You need to store multiple values without unique identifiers:\n",
        "\n",
        " Dictionaries rely on unique keys for efficient lookups.\n",
        "\n",
        "- You're performing frequent insertions or deletions in the middle of the sequence\n",
        "\n",
        "19. Why are dictionaries considered unordered, and how does that affect data retrieval?\n",
        "\n",
        "- In Python 3.7+, dictionaries retain insertion order, but their fundamental characteristic is that the order of elements is not guaranteed across different Python implementations or versions.\n",
        "-  This means you should not rely on the order for data retrieval; always use keys for accessing elements.\n",
        "\n",
        "20. Explain the difference between a list and a dictionary in terms of data retrieval.\n",
        "\n",
        "- Lists: Data is accessed by index (position).\n",
        "\n",
        "- Dictionaries: Data is accessed by key (a unique identifier). This is generally much faster than searching through a list.\n",
        "\n",
        "\n"
      ],
      "metadata": {
        "id": "wTCIDcjsvOh0"
      }
    },
    {
      "cell_type": "code",
      "source": [
        "# Create a string with your name and print it\n",
        "name = \"Mansi\"  # Replace with your actual name\n",
        "print(name)"
      ],
      "metadata": {
        "id": "_VFiUkDGvLt0",
        "colab": {
          "base_uri": "https://localhost:8080/"
        },
        "outputId": "e520dd61-00d3-4d0d-adb7-6904efaf1bbb"
      },
      "execution_count": 1,
      "outputs": [
        {
          "output_type": "stream",
          "name": "stdout",
          "text": [
            "Mansi\n"
          ]
        }
      ]
    },
    {
      "cell_type": "code",
      "execution_count": 2,
      "metadata": {
        "id": "Zze0-1AmurcF",
        "colab": {
          "base_uri": "https://localhost:8080/"
        },
        "outputId": "60be4442-dc72-4db1-bb3d-ba6dc2a2b727"
      },
      "outputs": [
        {
          "output_type": "stream",
          "name": "stdout",
          "text": [
            "The length of 'Hello World' is: 11\n"
          ]
        }
      ],
      "source": [
        "# Find the length of the string \"Hello World\"\n",
        "string1 = \"Hello World\"\n",
        "length = len(string1)\n",
        "print(f\"The length of '{string1}' is: {length}\")\n"
      ]
    },
    {
      "cell_type": "code",
      "source": [
        "# Slice the first 3 characters from the string \"Python Programming\"\n",
        "string2 = \"Python Programming\"\n",
        "sliced_string = string2[:3]\n",
        "print(f\"The first 3 characters of '{string2}' are: {sliced_string}\")"
      ],
      "metadata": {
        "colab": {
          "base_uri": "https://localhost:8080/"
        },
        "id": "pF7azZ98DNNW",
        "outputId": "62825aea-b7f4-4fa4-be29-1fb4e0f12a07"
      },
      "execution_count": 3,
      "outputs": [
        {
          "output_type": "stream",
          "name": "stdout",
          "text": [
            "The first 3 characters of 'Python Programming' are: Pyt\n"
          ]
        }
      ]
    },
    {
      "cell_type": "code",
      "source": [
        "# Convert the string \"hello\" to uppercase\n",
        "string3 = \"hello\"\n",
        "uppercase_string = string3.upper()\n",
        "print(f\"'{string3}' in uppercase is: {uppercase_string}\")"
      ],
      "metadata": {
        "colab": {
          "base_uri": "https://localhost:8080/"
        },
        "id": "Jo7HS8mSDXBL",
        "outputId": "c4d77c3b-5d27-46b4-9204-36144961d552"
      },
      "execution_count": 4,
      "outputs": [
        {
          "output_type": "stream",
          "name": "stdout",
          "text": [
            "'hello' in uppercase is: HELLO\n"
          ]
        }
      ]
    },
    {
      "cell_type": "code",
      "source": [
        "# Replace the word \"apple\" with \"orange\" in the string \"I like apple\"\n",
        "string4 = \"I like apple\"\n",
        "replaced_string = string4.replace(\"apple\", \"orange\")\n",
        "print(f\"'{string4}' after replacement is: {replaced_string}\")\n"
      ],
      "metadata": {
        "colab": {
          "base_uri": "https://localhost:8080/"
        },
        "id": "ws-cYwDxDcLN",
        "outputId": "3f8c0dca-22b4-4e52-dbb9-cbba0055b221"
      },
      "execution_count": 5,
      "outputs": [
        {
          "output_type": "stream",
          "name": "stdout",
          "text": [
            "'I like apple' after replacement is: I like orange\n"
          ]
        }
      ]
    },
    {
      "cell_type": "code",
      "source": [
        "# Create a list with numbers 1 to 5 and print it\n",
        "numbers = list(range(1, 6))  #More efficient way to create a range of numbers\n",
        "print(f\"List of numbers from 1 to 5: {numbers}\")\n",
        "\n",
        "numbers=[1,2,3,4,5]#2nd way\n",
        "print(f\"List of numbers from 1 to 5: {numbers}\")"
      ],
      "metadata": {
        "colab": {
          "base_uri": "https://localhost:8080/"
        },
        "id": "IA7gca6TEIyA",
        "outputId": "8217a805-9a07-4f3d-ec1d-e24e8813148e"
      },
      "execution_count": 7,
      "outputs": [
        {
          "output_type": "stream",
          "name": "stdout",
          "text": [
            "List of numbers from 1 to 5: [1, 2, 3, 4, 5]\n",
            "List of numbers from 1 to 5: [1, 2, 3, 4, 5]\n"
          ]
        }
      ]
    },
    {
      "cell_type": "code",
      "source": [
        "# Append the number 10 to the list [1, 2, 3, 4]\n",
        "list1 = [1, 2, 3, 4]\n",
        "list1.append(10)\n",
        "print(f\"List after appending 10: {list1}\")"
      ],
      "metadata": {
        "colab": {
          "base_uri": "https://localhost:8080/"
        },
        "id": "42UpELaSEpi4",
        "outputId": "916c6079-484c-404d-a618-f276f43aca10"
      },
      "execution_count": 8,
      "outputs": [
        {
          "output_type": "stream",
          "name": "stdout",
          "text": [
            "List after appending 10: [1, 2, 3, 4, 10]\n"
          ]
        }
      ]
    },
    {
      "cell_type": "code",
      "source": [
        "# Remove the number 3 from the list [1, 2, 3, 4, 5]\n",
        "list2 = [1, 2, 3, 4, 5]\n",
        "list2.remove(3)# ist method by taking element\n",
        "print(f\"List after removing 3: {list2}\")\n",
        "\n",
        "list2 = [1, 2, 3, 4, 5]\n",
        "list2.pop(2)#2nd way by taking element index\n",
        "print(f\"List after removing 3: {list2}\")"
      ],
      "metadata": {
        "colab": {
          "base_uri": "https://localhost:8080/"
        },
        "id": "rssbEGRlE7-g",
        "outputId": "89c67c0d-7cea-4f34-da1d-59b7cc1adaaa"
      },
      "execution_count": 10,
      "outputs": [
        {
          "output_type": "stream",
          "name": "stdout",
          "text": [
            "List after removing 3: [1, 2, 4, 5]\n",
            "List after removing 3: [1, 2, 4, 5]\n"
          ]
        }
      ]
    },
    {
      "cell_type": "code",
      "source": [
        "# Access the second element in the list ['a', 'b', 'c', 'd']\n",
        "list3 = ['a', 'b', 'c', 'd']\n",
        "second_element = list3[1]  #List indexing starts at 0\n",
        "print(f\"The second element of the list is: {second_element}\")\n"
      ],
      "metadata": {
        "colab": {
          "base_uri": "https://localhost:8080/"
        },
        "id": "3y4VOsUlFroO",
        "outputId": "cf4393f5-fc2a-4503-8a6e-294426d9eb26"
      },
      "execution_count": 11,
      "outputs": [
        {
          "output_type": "stream",
          "name": "stdout",
          "text": [
            "The second element of the list is: b\n"
          ]
        }
      ]
    },
    {
      "cell_type": "code",
      "source": [
        "# Reverse the list [10, 20, 30, 40, 50]\n",
        "list4 = [10, 20, 30, 40, 50]\n",
        "list4.reverse() # Modifies the list in place\n",
        "print(f\"Reversed list: {list4}\")\n",
        "\n",
        "\n",
        "\n",
        "#Alternatively, you can create a new reversed list:\n",
        "reversed_list = list4[::-1] #Creates a copy, original list4 is unchanged.\n",
        "print(f\"Reversed list (using slicing): {reversed_list}\") #Creates a copy, original list4 is unchanged.\n",
        "\n",
        "\n",
        "i=1            # 3rd way using loop\n",
        "rev=[]\n",
        "while i<=len(list4):\n",
        "  reversed_list=list4[i-1]\n",
        "  rev.append(reversed_list)\n",
        "\n",
        "  i=i+1\n",
        "rev\n"
      ],
      "metadata": {
        "colab": {
          "base_uri": "https://localhost:8080/"
        },
        "id": "IUaCkTXyF4Rf",
        "outputId": "8dd23a65-7ec2-4088-a8e1-ad0a887121d0"
      },
      "execution_count": 27,
      "outputs": [
        {
          "output_type": "stream",
          "name": "stdout",
          "text": [
            "Reversed list: [50, 40, 30, 20, 10]\n",
            "Reversed list (using slicing): [10, 20, 30, 40, 50]\n"
          ]
        },
        {
          "output_type": "execute_result",
          "data": {
            "text/plain": [
              "[50, 40, 30, 20, 10]"
            ]
          },
          "metadata": {},
          "execution_count": 27
        }
      ]
    },
    {
      "cell_type": "code",
      "source": [
        "i=1\n",
        "rev=[]\n",
        "while i<=len(list4):\n",
        "  reversed_list=list4[i-1]\n",
        "  rev.append(reversed_list)\n",
        "\n",
        "  i=i+1\n",
        "rev"
      ],
      "metadata": {
        "colab": {
          "base_uri": "https://localhost:8080/"
        },
        "id": "o1jfiTRLGUuL",
        "outputId": "b8081767-d4a5-41fd-daa1-e4c63cd935b9"
      },
      "execution_count": 25,
      "outputs": [
        {
          "output_type": "execute_result",
          "data": {
            "text/plain": [
              "[50, 40, 30, 20, 10]"
            ]
          },
          "metadata": {},
          "execution_count": 25
        }
      ]
    },
    {
      "cell_type": "code",
      "source": [
        "# 11. Create a tuple with elements 10, 20, 30 and print it.\n",
        "my_tuple = (10, 20, 30)\n",
        "print(my_tuple)"
      ],
      "metadata": {
        "colab": {
          "base_uri": "https://localhost:8080/"
        },
        "id": "5Ut0ZofhNV9T",
        "outputId": "b1138b7c-27a9-4cad-8df0-3e0873fc7fb7"
      },
      "execution_count": 28,
      "outputs": [
        {
          "output_type": "stream",
          "name": "stdout",
          "text": [
            "(10, 20, 30)\n"
          ]
        }
      ]
    },
    {
      "cell_type": "code",
      "source": [
        "# 12. Access the first element of the tuple ('apple', 'banana', 'cherry').\n",
        "my_tuple = ('apple', 'banana', 'cherry')\n",
        "first_element = my_tuple[0]\n",
        "print(first_element)"
      ],
      "metadata": {
        "colab": {
          "base_uri": "https://localhost:8080/"
        },
        "id": "6APn4dW1Nfgg",
        "outputId": "924e85a2-8ba2-432b-ebce-5827adb82f2d"
      },
      "execution_count": 29,
      "outputs": [
        {
          "output_type": "stream",
          "name": "stdout",
          "text": [
            "apple\n"
          ]
        }
      ]
    },
    {
      "cell_type": "code",
      "source": [
        "# 13. Count how many times the number 2 appears in the tuple (1, 2, 3, 2, 4, 2).\n",
        "my_tuple = (1, 2, 3, 2, 4, 2)\n",
        "count_of_two = my_tuple.count(2) # by count method\n",
        "print(count_of_two)\n",
        "\n",
        "count_of_two=0\n",
        "for i in my_tuple:         # using loop\n",
        "  if i==2:\n",
        "    count_of_two=count_of_two+1\n",
        "\n",
        "print(count_of_two)"
      ],
      "metadata": {
        "colab": {
          "base_uri": "https://localhost:8080/"
        },
        "id": "JiGG-nE_Nw_F",
        "outputId": "7bc176d5-828b-4f13-91e8-34c67b2ab32c"
      },
      "execution_count": 32,
      "outputs": [
        {
          "output_type": "stream",
          "name": "stdout",
          "text": [
            "3\n",
            "3\n"
          ]
        }
      ]
    },
    {
      "cell_type": "code",
      "source": [
        "# 14. Find the index of the element \"cat\" in the tuple ('dog', 'cat', 'rabbit').\n",
        "my_tuple = ('dog', 'cat', 'rabbit')\n",
        "index_of_cat = my_tuple.index('cat')\n",
        "print(index_of_cat)"
      ],
      "metadata": {
        "colab": {
          "base_uri": "https://localhost:8080/"
        },
        "id": "vp9xVBXUPGlg",
        "outputId": "2f849e13-9982-4b3e-abbe-4714f7caf2cf"
      },
      "execution_count": 33,
      "outputs": [
        {
          "output_type": "stream",
          "name": "stdout",
          "text": [
            "1\n"
          ]
        }
      ]
    },
    {
      "cell_type": "code",
      "source": [
        "# 15. Check if the element \"banana\" is in the tuple ('apple', 'orange', 'banana').\n",
        "my_tuple = ('apple', 'orange', 'banana')\n",
        "is_banana_present = 'banana' in my_tuple\n",
        "print(is_banana_present)\n",
        "\n"
      ],
      "metadata": {
        "colab": {
          "base_uri": "https://localhost:8080/"
        },
        "id": "5TQusdG9PRus",
        "outputId": "cf24b8c8-66df-4d21-ed04-c564244b9adb"
      },
      "execution_count": 34,
      "outputs": [
        {
          "output_type": "stream",
          "name": "stdout",
          "text": [
            "True\n"
          ]
        }
      ]
    },
    {
      "cell_type": "code",
      "source": [
        "# 16. Create a set with the elements 1, 2, 3, 4, 5 and print it.\n",
        "my_set = {1, 2, 3, 4, 5}\n",
        "print(my_set)"
      ],
      "metadata": {
        "colab": {
          "base_uri": "https://localhost:8080/"
        },
        "id": "J3UvHILNP-Ba",
        "outputId": "bc781185-4828-4c56-8fec-866a9b17f7e7"
      },
      "execution_count": 35,
      "outputs": [
        {
          "output_type": "stream",
          "name": "stdout",
          "text": [
            "{1, 2, 3, 4, 5}\n"
          ]
        }
      ]
    },
    {
      "cell_type": "code",
      "source": [
        "# 17. Add the element 6 to the set {1, 2, 3, 4}.\n",
        "my_set = {1, 2, 3, 4}\n",
        "my_set.add(6)\n",
        "print(my_set)"
      ],
      "metadata": {
        "colab": {
          "base_uri": "https://localhost:8080/"
        },
        "id": "rAuonsUOQBlM",
        "outputId": "c948dd56-70c4-4a60-97cf-0fe43217c95f"
      },
      "execution_count": 36,
      "outputs": [
        {
          "output_type": "stream",
          "name": "stdout",
          "text": [
            "{1, 2, 3, 4, 6}\n"
          ]
        }
      ]
    },
    {
      "cell_type": "markdown",
      "source": [],
      "metadata": {
        "id": "2Vtc82_uu5a3"
      }
    }
  ]
}