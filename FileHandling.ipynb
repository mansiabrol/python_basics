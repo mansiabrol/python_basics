{
  "nbformat": 4,
  "nbformat_minor": 0,
  "metadata": {
    "colab": {
      "provenance": []
    },
    "kernelspec": {
      "name": "python3",
      "display_name": "Python 3"
    },
    "language_info": {
      "name": "python"
    }
  },
  "cells": [
    {
      "cell_type": "markdown",
      "source": [
        "HF What is the difference between interpreted and compiled languages?\n",
        "Compiled Languages:\n",
        "\n",
        "- The entire source code is translated into machine code (binary instructions) by a compiler before the program runs.\n",
        "\n",
        "Examples: C, C++, Java.\n",
        "\n",
        "- Execution is faster because the machine code is directly executed by the CPU.\n",
        "\n",
        "- Typically, programs must be recompiled each time a code change is made.\n",
        "\n",
        "Interpreted Languages:\n",
        "\n",
        "- The source code is read and executed line by line by an interpreter at runtime.\n",
        "\n",
        "Examples: Python, JavaScript, Ruby.\n",
        "\n",
        "- Execution is slower compared to compiled languages, as the interpreter needs to translate each line during execution.\n",
        "\n",
        "- Easier to debug and more portable because the code can run on any platform with a suitable interpreter.\n",
        "\n",
        "2. What is exception handling in Python\n",
        "\n",
        "- Exception handling is a mechanism to deal with errors that occur during the execution of a program (runtime errors).\n",
        "\n",
        "- It allows you to gracefully handle these errors instead of crashing the program.\n",
        "\n",
        "- Python uses try, except, else, and finally blocks for this purpose.\n",
        "\n",
        "3. What is the purpose of the finally block in exception handling\n",
        "- The primary purpose of the finally block is to ensure that a specific block of code is always executed, regardless of what happens within the try block or any except blocks that might handle exceptions\n",
        "- It is primarily used for cleanup tasks like:\n",
        "\n",
        "1.Closing files or network connections\n",
        "\n",
        "2.Releasing resources\n",
        "\n",
        "3.Ensuring that specific actions are always performed, no matter what happens in the try block\n",
        "- The finally block in exception handling is not about handling errors; it's about guaranteeing that certain critical actions (typically cleanup) are performed regardless of whether errors occurred or not.  \n",
        "- This makes your programs more robust and prevents resources from being lost or corrupted, ensures your program is stable after failures and helps keep the program in a consistent state.\n",
        "4 What is logging in Python\n",
        "- Logging is a way to record events that occur while a program runs.\n",
        "\n",
        "- logging in Python (and in programming in general) is a structured way to record events that occur during the execution of your program.\n",
        "\n",
        "\n",
        "- Think of it like keeping a detailed diary of what your application is doing.such a valuable tool for developers.\n",
        "\n",
        "It helps in:\n",
        "\n",
        "- Debugging: Track program flow and identify errors.\n",
        "\n",
        "- Auditing: Keep a record of program operations.\n",
        "\n",
        "- Monitoring: Observe the program's behavior.\n",
        "\n",
        "- Analyzing: Collect data for performance improvements and troubleshooting.\n",
        "such a valuable tool for developers.\n",
        "\n",
        "- Python has a built-in logging module that enables structured and flexible logging.\n",
        "- logging in Python (and in programming in general) is a structured way to record events that occur during the execution of your program.\n",
        "- Think of it like keeping a detailed diary of what your application is doing\n",
        "\n",
        "What is the significance of the __del__ method in Python\n",
        "- The __del__ method (destructor) is called when an object is about to be garbage collected (removed from memory).\n",
        "\n",
        "- It allows for final actions to be performed before the object is destroyed, like releasing external resources associated with the object.\n",
        "\n",
        "- However, rely on the garbage collection; you do not have much control on when the __del__ method is called. It is best practice to use 'with' statements to clean up resources like files.\n",
        "\n",
        "What is the difference between import and from ... import in Python\n",
        "\n",
        "- import module_name: Imports the entire module.\n",
        "\n",
        "- You access its contents using the module name as a prefix (e.g., module_name.function_name()).\n",
        "\n",
        "- from module_name import item1, item2, ...: Imports specific items (functions, classes, variables) directly into the current namespace.\n",
        "- You access them directly without the module name prefix (e.g., function_name()).\n",
        "7. How can you handle multiple exceptions in Python\n",
        "\n",
        "You can use multiple except blocks to catch different exception types:\n",
        "\n",
        "try:\n",
        "    # code that might raise exceptions\n",
        "\n",
        "except TypeError:  \n",
        "# Handle TypeError\n",
        "\n",
        "except ValueError:\n",
        "# Handle ValueError\n",
        "\n",
        "except Exception as e:\n",
        "# Handle any other exceptions\n",
        "\n",
        "8.What is the purpose of the with statement when handling files in Python\n",
        "\n",
        "- The with statement is used to automatically manage resources, especially files.\n",
        "\n",
        "- It ensures that the file is properly closed after it's used, even if errors occur.\n",
        "\n",
        "with open(\"my_file.txt\", \"r\") as file:\n",
        "    # work with the file\n",
        "\n",
        "    content = file.read()\n",
        "# file is automatically closed here\n",
        "\n",
        "\n",
        "\n",
        "- Multithreading:\n",
        "\n",
        "- Uses multiple threads within a single process.\n",
        "\n",
        "- Threads share the same memory space within the process.\n",
        "\n",
        "- Suitable for I/O-bound tasks (waiting for data, network requests), where threads can run while other threads are blocked.\n",
        "\n",
        "- Python has a Global Interpreter Lock (GIL) that can limit true parallel execution for CPU-bound tasks.\n",
        "\n",
        "- Multiprocessing:\n",
        "\n",
        "- Creates multiple separate processes.\n",
        "\n",
        "- Processes have their own memory space.\n",
        "\n",
        "Suitable for CPU-bound tasks (heavy computations), where multiple processes can truly run in parallel on different CPU cores.\n",
        "\n",
        "- Overcomes the GIL limitation of multithreading.\n",
        "\n",
        "Simplified Analogy\n",
        "\n",
        "- Multithreading: Imagine a single chef (process) working in a kitchen, but with multiple assistants (threads). These assistants can work on different parts of a meal (preparing vegetables, setting the table) concurrently, using the same ingredients (shared memory). However, only one of them can use the same stove (CPU) at any one time.\n",
        "\n",
        "- Multiprocessing: Imagine multiple chefs (processes) each working in their own separate kitchen. They can all be preparing their own meals (independent processes), and each can have full use of their own equipment (CPU).\n",
        "10.What are the advantages of using logging in a program\n",
        "\n",
        "- Detailed tracking of program behavior.\n",
        "\n",
        "- Easier debugging, even in production environments.\n",
        "\n",
        "- Separation of error reporting from program logic.\n",
        "\n",
        "- Configurable logging output (file, console, etc.)\n",
        "\n",
        "- Different logging levels to filter messages (debug, info, warning, error, critical).\n",
        "\n",
        "- Easier troubleshooting of past issues.\n",
        "\n",
        "11.What is memory management in Python\n",
        "- Python uses automatic memory management to simplify memory operations for programmers.\n",
        "\n",
        "- It uses dynamic allocation: variables are allocated memory as needed.\n",
        "\n",
        "- It uses Garbage collection to deallocate memory.\n",
        "\n",
        "- Reference counting and cyclic garbage collection are the main strategies.\n",
        "12.What are the basic steps involved in exception handling in Python\n",
        "\n",
        "- try block: Enclose the code that might raise an exception within a try block.\n",
        "\n",
        "- except block: Use except blocks to catch specific exception types. Provide code to handle each exception.\n",
        "\n",
        "- Optional else block: Runs if no exceptions occur within the try block.\n",
        "\n",
        "- Optional finally block: Always runs, regardless of whether an exception occurs or not.\n",
        "\n",
        "13. Why is memory management important in Python\n",
        "\n",
        "- Efficiency: Proper memory management prevents memory leaks, improves program speed, and resource utilization.\n",
        "\n",
        "- Stability: Prevents crashes due to out-of-memory errors.\n",
        "\n",
        "- Reliability: Ensure long-running programs do not use up all available memory.\n",
        "\n",
        "14.What is the role of try and except in exception handling\n",
        "\n",
        "- try: Marks the beginning of the code block that is being monitored for potential exceptions.\n",
        "\n",
        "- except: Marks the beginning of a code block that handles specific exception types if they occur in the try block.\n",
        "\n",
        "15.Python's Garbage Collection System\n",
        "\n",
        "- Reference Counting: Tracks how many references there are to an object. When the reference count drops to zero, the object's memory is reclaimed.\n",
        "\n",
        "- Cyclic Garbage Collection: Detects and removes objects involved in circular dependencies. This ensures that object cycles don't get stuck in memory forever, even if reference counts are not zero.\n",
        "\n",
        "17. What are the common logging levels in Python\n",
        "- DEBUG: Detailed information for debugging purposes.\n",
        "\n",
        "- INFO: General information about program execution.\n",
        "\n",
        "- WARNING: An indication that something unexpected happened but not severe enough to crash the application.\n",
        "\n",
        "- ERROR: An error occurred in the application and it is unlikely that it will continue to run as normal.\n",
        "\n",
        "- CRITICAL: A severe error occurred which indicates a critical failure.\n",
        "\n",
        "18.What is the difference between os.fork() and multiprocessing in Pythonos.fork():\n",
        "\n",
        "- Creates a new process that is a copy of the current process (including memory space).\n",
        "- It is a low-level system-specific process creation method.\n",
        "\n",
        "- Usually not directly used for high-level concurrent programming in Python.\n",
        "\n",
        "- Typically only available on Unix-based systems.\n",
        "\n",
        "multiprocessing:\n",
        "\n",
        "- Provides a higher-level interface for creating and managing processes, especially on Windows and Unix.\n",
        "\n",
        "- Offers features like shared memory, process pools, and inter-process communication.\n",
        "\n",
        "- Cross-platform and much more flexible than os.fork().\n",
        "\n",
        "- It is a low-level system-specific process creation method.\n",
        "\n",
        "- Usually not directly used for high-level concurrent programming in Python.\n",
        "\n",
        "- Typically only available on Unix-based systems.\n",
        "\n",
        "16.What is the purpose of the else block in exception handling\n",
        "The else block is executed only if no exceptions occurred in the try block.\n",
        "\n",
        "It provides a place to put code that should run if the try block executes without errors.\n",
        "\n",
        "19. What is the importance of closing a file in Python\n",
        "- The else block is executed only if no exceptions occurred in the try block.\n",
        "\n",
        "- It provides a place to put code that should run if the try block executes without errors.\n",
        "\n",
        "20. What is the difference between file.read() and file.readline() in Python\n",
        "\n",
        "- file.read(): Reads the entire content of the file as a single string. If no size is provided the entire content of the file will be read.\n",
        "\n",
        "- file.readline(): Reads a single line from the file, including the newline character (\\n). Each call to readline reads a new line and will return a blank string at the end of the file.\n",
        "\n",
        "\n",
        "21. What is the logging module in Python used for\n",
        "\n",
        "- The logging module provides classes and functions for sending logging messages to various outputs (console, files, network, etc).\n",
        "\n",
        "- Allows for structured and customizable logging for better debugging and monitoring.\n",
        "\n",
        "22.What is the os module in Python used for in file handling\n",
        "\n",
        "- The os module provides functions for interacting with the operating system, including:\n",
        "\n",
        "- Creating and deleting directories/files.\n",
        "\n",
        "- Moving and renaming directories/files.\n",
        "\n",
        "- Getting file properties.\n",
        "\n",
        "- Checking if a file or directory exists.\n",
        "\n",
        "- Working with file paths\n",
        "23. What are the challenges associated with memory management in Python\n",
        "\n",
        "-  Memory leaks can still occur, although less likely compared to manual memory management languages.\n",
        "\n",
        "- Large datasets can use a lot of memory quickly.\n",
        "\n",
        "- Circular dependencies can delay garbage collection.\n",
        "\n",
        "- Memory management can sometimes be unpredictable.\n",
        "24.  How do you raise an exception manually in Python\n",
        "- Use the raise keyword to raise an exception (either a built-in or custom exception) yourself:\n",
        "\n",
        "- raise ValueError(\"This is an error message!\")\n",
        "\n",
        "25. Why is it important to use multithreading in certain applications?\n",
        "\n",
        "- Enhance the responsiveness of user interfaces by handling long tasks on a separate thread, preventing the UI from freezing.\n",
        "\n",
        "- Perform I/O bound operations in parallel (downloading files, sending requests to web server)\n",
        "\n",
        "- Improve the performance of I/O-intensive applications.\n",
        "\n",
        "\n",
        "\n",
        "\n",
        "\n",
        "\n",
        "\n",
        "\n",
        "\n",
        "\n",
        "\n",
        "\n",
        "\n",
        "\n",
        "\n",
        "\n",
        "\n",
        "\n",
        "\n",
        "\n",
        "\n",
        "\n"
      ],
      "metadata": {
        "id": "GQ7y60fyFBF6"
      }
    },
    {
      "cell_type": "code",
      "source": [
        "#How can you open a file for writing in Python and write a string to it\n",
        "def write_string_to_file(filename, text):\n",
        "    \"\"\"Opens a file for writing and writes a string to it.\"\"\"\n",
        "    try:\n",
        "        with open(filename, 'w') as file:  # 'w' mode for writing\n",
        "            file.write(text)\n",
        "        print(f\"Successfully wrote to '{filename}'.\")\n",
        "    except Exception as e:\n",
        "        print(f\"Error writing to file: {e}\")\n",
        "\n",
        "\n",
        "write_string_to_file(\"my_output.txt\", \"This is some text I'm writing to a file!\")\n"
      ],
      "metadata": {
        "id": "YMOH4l5JAeGy",
        "colab": {
          "base_uri": "https://localhost:8080/"
        },
        "outputId": "dda0b332-8de8-46e9-d34a-737a6c71c262"
      },
      "execution_count": null,
      "outputs": [
        {
          "output_type": "stream",
          "name": "stdout",
          "text": [
            "Successfully wrote to 'my_output.txt'.\n"
          ]
        }
      ]
    },
    {
      "cell_type": "code",
      "source": [
        "# Write a Python program to read the contents of a file and print each line\n",
        "def read_and_print_file(filename):\n",
        "    \"\"\"Reads a file and prints each line.\"\"\"\n",
        "    try:\n",
        "        with open(filename, 'r') as file:  # 'r' mode for reading\n",
        "            for line in file:\n",
        "                print(line.strip())  # .strip() removes leading/trailing whitespace\n",
        "    except FileNotFoundError:\n",
        "        print(f\"Error: File '{filename}' not found.\")\n",
        "    except Exception as e:\n",
        "        print(f\"An unexpected error occurred: {e}\")\n",
        "\n",
        "\n",
        "read_and_print_file(\"my_output.txt\")\n",
        "read_and_print_file(\"nonexistent_file.txt\") # Will trigger FileNotFoundError"
      ],
      "metadata": {
        "colab": {
          "base_uri": "https://localhost:8080/"
        },
        "id": "xXy9qqKgArA3",
        "outputId": "bb0b53c4-4ffd-4e8c-9c7e-c7a6c07536e5"
      },
      "execution_count": null,
      "outputs": [
        {
          "output_type": "stream",
          "name": "stdout",
          "text": [
            "This is some text I'm writing to a file!\n",
            "Error: File 'nonexistent_file.txt' not found.\n"
          ]
        }
      ]
    },
    {
      "cell_type": "code",
      "source": [
        "#How would you handle a case where the file doesn't exist while trying to open it for reading\n",
        "def read_and_print_file(filename):\n",
        "    \"\"\"Reads a file and prints each line.\"\"\"\n",
        "    try:\n",
        "        with open(filename, 'r') as file:  # 'r' mode for reading\n",
        "            for line in file:\n",
        "                print(line.strip())  # .strip() removes leading/trailing whitespace\n",
        "    except FileNotFoundError:\n",
        "        print(f\"Error: File '{filename}' not found.\")\n",
        "    except Exception as e:\n",
        "        print(f\"An unexpected error occurred: {e}\")\n",
        "\n",
        "\n",
        "\n",
        "#read_and_print_file(\"my_output.txt\")\n",
        "read_and_print_file(\"nonexistent_file.txt\") # Will trigger FileNotFoundError"
      ],
      "metadata": {
        "colab": {
          "base_uri": "https://localhost:8080/"
        },
        "id": "ff9DQu9sBmN6",
        "outputId": "dcecf1e5-8610-4927-f4fa-592f64d8fb69"
      },
      "execution_count": null,
      "outputs": [
        {
          "output_type": "stream",
          "name": "stdout",
          "text": [
            "Error: File 'nonexistent_file.txt' not found.\n"
          ]
        }
      ]
    },
    {
      "cell_type": "code",
      "source": [
        "#Write a Python script that reads from one file and writes its content to another file\n",
        "def copy_file(source_file, dest_file):\n",
        "    \"\"\"Reads from source_file and writes to dest_file.\"\"\"\n",
        "    try:\n",
        "        with open(source_file, 'r') as infile, open(dest_file, 'w') as outfile:\n",
        "            for line in infile:\n",
        "                outfile.write(line)\n",
        "        print(f\"Successfully copied content from '{source_file}' to '{dest_file}'.\")\n",
        "\n",
        "    except FileNotFoundError:\n",
        "        print(f\"Error: Source file '{source_file}' not found.\")\n",
        "    except Exception as e:\n",
        "        print(f\"Error during file copy: {e}\")\n",
        "\n",
        "\n",
        "\n",
        "copy_file(\"my_output.txt\",\"copied_file.txt\")"
      ],
      "metadata": {
        "colab": {
          "base_uri": "https://localhost:8080/"
        },
        "id": "dF6q9EYfDBC2",
        "outputId": "865d26f3-908a-4033-b705-a9f0356b34d0"
      },
      "execution_count": null,
      "outputs": [
        {
          "output_type": "stream",
          "name": "stdout",
          "text": [
            "Successfully copied content from 'my_output.txt' to 'copied_file.txt'.\n"
          ]
        }
      ]
    },
    {
      "cell_type": "code",
      "source": [
        "#5.How would you catch and handle division by zero error in Python\n",
        "def safe_divide(numerator, denominator):\n",
        "    \"\"\"Divides two numbers and handles ZeroDivisionError.\"\"\"\n",
        "    try:\n",
        "        result = numerator / denominator\n",
        "        return result\n",
        "    except ZeroDivisionError:\n",
        "        print(\"Error: Cannot divide by zero.\")\n",
        "        return None  # Or handle it another way, like returning 0\n",
        "\n",
        "\n",
        "\n",
        "print(safe_divide(10, 2))\n",
        "print(safe_divide(5, 0))\n"
      ],
      "metadata": {
        "colab": {
          "base_uri": "https://localhost:8080/"
        },
        "id": "L72Li-fEHEHA",
        "outputId": "f8bc07ba-a59c-4496-ea1f-9e057ae27601"
      },
      "execution_count": null,
      "outputs": [
        {
          "output_type": "stream",
          "name": "stdout",
          "text": [
            "5.0\n",
            "Error: Cannot divide by zero.\n",
            "None\n"
          ]
        }
      ]
    },
    {
      "cell_type": "code",
      "source": [
        "#Write a Python program that logs an error message to a log file when a division by zero exception occurs\n",
        "\n",
        "import logging\n",
        "\n",
        "logging.basicConfig(filename='app.log', level=logging.ERROR, format='%(asctime)s - %(levelname)s - %(message)s')\n",
        "\n",
        "def safe_divide_with_log(numerator, denominator):\n",
        "    \"\"\"Divides two numbers and logs a ZeroDivisionError.\"\"\"\n",
        "    try:\n",
        "        result = numerator / denominator\n",
        "        return result\n",
        "    except ZeroDivisionError:\n",
        "        logging.error(\"Division by zero attempted.\")\n",
        "        return None\n",
        "\n",
        "\n",
        "safe_divide_with_log(10, 0)"
      ],
      "metadata": {
        "colab": {
          "base_uri": "https://localhost:8080/"
        },
        "id": "ZUYrw9KEL6wZ",
        "outputId": "e479a9de-f380-4093-e228-5873d14fb6ee"
      },
      "execution_count": null,
      "outputs": [
        {
          "output_type": "stream",
          "name": "stderr",
          "text": [
            "ERROR:root:Division by zero attempted.\n"
          ]
        }
      ]
    },
    {
      "cell_type": "code",
      "source": [
        "#How do you log information at different levels (INFO, ERROR, WARNING) in Python using the logging module\n",
        "import logging\n",
        "\n",
        "logging.basicConfig(filename='app.log', level=logging.DEBUG, format='%(asctime)s - %(levelname)s - %(message)s')\n",
        "\n",
        "logging.debug(\"This is a debug message\")\n",
        "logging.info(\"This is an info message.\")\n",
        "logging.warning(\"This is a warning message.\")\n",
        "logging.error(\"This is an error message.\")\n",
        "logging.critical(\"This is a critical message\")\n"
      ],
      "metadata": {
        "colab": {
          "base_uri": "https://localhost:8080/"
        },
        "id": "OVRzRvwqUZDW",
        "outputId": "e16ff8a6-b6a7-4e64-8f72-9e352ef4e770"
      },
      "execution_count": null,
      "outputs": [
        {
          "output_type": "stream",
          "name": "stderr",
          "text": [
            "WARNING:root:This is a warning message.\n",
            "ERROR:root:This is an error message.\n",
            "CRITICAL:root:This is a critical message\n"
          ]
        }
      ]
    },
    {
      "cell_type": "code",
      "source": [
        "def read_and_print_file(filename):\n",
        "    \"\"\"Reads a file and prints each line.\"\"\"\n",
        "    try:\n",
        "        with open(filename, 'r') as file:  # 'r' mode for reading\n",
        "            for line in file:\n",
        "                print(line.strip())  # .strip() removes leading/trailing whitespace\n",
        "    except FileNotFoundError:\n",
        "        print(f\"Error: File '{filename}' not found.\")\n",
        "    except Exception as e:\n",
        "        print(f\"An unexpected error occurred: {e}\")\n",
        "#read_and_print_file(\"my_output.txt\")\n",
        "read_and_print_file(\"nonexistent_file.txt\") # Will trigger FileNotFoundError"
      ],
      "metadata": {
        "colab": {
          "base_uri": "https://localhost:8080/"
        },
        "id": "FptvcfPsXYEY",
        "outputId": "938f3db7-c171-4d73-e373-1cff77013a26"
      },
      "execution_count": null,
      "outputs": [
        {
          "output_type": "stream",
          "name": "stdout",
          "text": [
            "Error: File 'nonexistent_file.txt' not found.\n"
          ]
        }
      ]
    },
    {
      "cell_type": "code",
      "source": [
        "#How can you read a file line by line and store its content in a list in Python\n",
        "def file_to_list(filename):\n",
        "    \"\"\"Reads a file line by line and stores content in a list.\"\"\"\n",
        "    try:\n",
        "        lines = []\n",
        "        with open(filename, 'r') as file:\n",
        "            for line in file:\n",
        "                lines.append(line.strip())  # removes extra spaces\n",
        "        return lines\n",
        "    except FileNotFoundError:\n",
        "         print(f\"Error: File '{filename}' not found.\")\n",
        "         return None\n",
        "    except Exception as e:\n",
        "      print(f\"An unexpected error occurred: {e}\")\n",
        "      return None\n",
        "\n",
        "my_lines = file_to_list(\"my_output.txt\")\n",
        "\n",
        "print(my_lines)\n"
      ],
      "metadata": {
        "colab": {
          "base_uri": "https://localhost:8080/"
        },
        "id": "UMQuqZVWYYzP",
        "outputId": "62708480-d0e7-4b3b-e007-ae4669c821dc"
      },
      "execution_count": null,
      "outputs": [
        {
          "output_type": "stream",
          "name": "stdout",
          "text": [
            "[\"This is some text I'm writing to a file!\"]\n"
          ]
        }
      ]
    },
    {
      "cell_type": "code",
      "source": [
        "def append_to_file(filename, text):\n",
        "    \"\"\"Appends text to an existing file.\"\"\"\n",
        "    try:\n",
        "      with open(filename, 'a') as file:  # 'a' mode for appending\n",
        "          file.write(text)\n",
        "\n",
        "      print(f\"Successfully appended to '{filename}'.\")\n",
        "    except Exception as e:\n",
        "        print(f\"Error appending to file: {e}\")\n",
        "\n",
        "\n",
        "\n",
        "append_to_file(\"my_output.txt\", \"\\nThis is a new line.\")"
      ],
      "metadata": {
        "colab": {
          "base_uri": "https://localhost:8080/"
        },
        "id": "RA3Xit9qZpAQ",
        "outputId": "a379a386-abc6-4431-b2af-1c8c52ff73a3"
      },
      "execution_count": null,
      "outputs": [
        {
          "output_type": "stream",
          "name": "stdout",
          "text": [
            "Successfully appended to 'my_output.txt'.\n"
          ]
        }
      ]
    },
    {
      "cell_type": "code",
      "source": [
        "# Write a Python program that uses a try-except block to handle an error when attempting to access a dictionary key that doesn't exist\n",
        "def get_value_safe(dictionary, key):\n",
        "    \"\"\"Safely gets a value from a dictionary.\"\"\"\n",
        "    try:\n",
        "        return dictionary[key]\n",
        "    except KeyError:\n",
        "        print(f\"Error: Key '{key}' not found in dictionary.\")\n",
        "        return None\n",
        "\n",
        "\n",
        "\n",
        "my_dict = {\"name\": \"Alice\", \"age\": 30}\n",
        "print(get_value_safe(my_dict, \"name\"))\n",
        "print(get_value_safe(my_dict, \"city\"))"
      ],
      "metadata": {
        "colab": {
          "base_uri": "https://localhost:8080/"
        },
        "id": "DPfdr3pabrtx",
        "outputId": "7a6bb0e4-b8e6-4d76-a481-4f8a5e1189a7"
      },
      "execution_count": null,
      "outputs": [
        {
          "output_type": "stream",
          "name": "stdout",
          "text": [
            "Alice\n",
            "Error: Key 'city' not found in dictionary.\n",
            "None\n"
          ]
        }
      ]
    },
    {
      "cell_type": "code",
      "source": [
        "# Write a program that demonstrates using multiple except blocks to handle different types of exceptions\n",
        "def process_value(value):\n",
        "    \"\"\"Demonstrates using multiple except blocks.\"\"\"\n",
        "    try:\n",
        "        int_val = int(value)\n",
        "        result = 10 / int_val\n",
        "        return result\n",
        "    except ValueError:\n",
        "        print(\"Error: Input must be a valid integer.\")\n",
        "    except ZeroDivisionError:\n",
        "        print(\"Error: Cannot divide by zero.\")\n",
        "    except TypeError as e:\n",
        "        print(f\"Error: Type error {e}\")\n",
        "    except Exception as e:\n",
        "        print(f\"An unexpected error occurred: {e}\")\n",
        "\n",
        "\n",
        "process_value(\"abc\")\n",
        "process_value(\"0\")\n",
        "process_value(None)\n",
        "process_value(5)"
      ],
      "metadata": {
        "colab": {
          "base_uri": "https://localhost:8080/"
        },
        "id": "bGMJ9TrWdqYv",
        "outputId": "eecf65c2-1405-4300-e4fb-0adab3447c7c"
      },
      "execution_count": null,
      "outputs": [
        {
          "output_type": "stream",
          "name": "stdout",
          "text": [
            "Error: Input must be a valid integer.\n",
            "Error: Cannot divide by zero.\n",
            "Error: Type error int() argument must be a string, a bytes-like object or a real number, not 'NoneType'\n"
          ]
        },
        {
          "output_type": "execute_result",
          "data": {
            "text/plain": [
              "2.0"
            ]
          },
          "metadata": {},
          "execution_count": 27
        }
      ]
    },
    {
      "cell_type": "code",
      "source": [
        "#How would you check if a file exists before attempting to read it in Python\n",
        "import os\n",
        "\n",
        "def file_exists(filename):\n",
        "    \"\"\"Checks if a file exists.\"\"\"\n",
        "    return os.path.exists(filename)\n",
        "\n",
        "\n",
        "def read_file_if_exists(filename):\n",
        "  \"\"\"Reads a file if it exists, logs a message if it does not\"\"\"\n",
        "  if file_exists(filename):\n",
        "      read_and_print_file(filename)\n",
        "  else:\n",
        "        logging.warning(f\"File '{filename}' does not exist.\")\n",
        "        print(f\"File '{filename}' does not exist. Cannot read\")\n",
        "\n",
        "read_file_if_exists(\"my_output.txt\")\n",
        "read_file_if_exists(\"does_not_exist.txt\")"
      ],
      "metadata": {
        "colab": {
          "base_uri": "https://localhost:8080/"
        },
        "id": "0Krd55WXgAxa",
        "outputId": "6f50afed-2d2d-44e3-c615-fca1adedb2c6"
      },
      "execution_count": null,
      "outputs": [
        {
          "output_type": "stream",
          "name": "stderr",
          "text": [
            "WARNING:root:File 'does_not_exist.txt' does not exist.\n"
          ]
        },
        {
          "output_type": "stream",
          "name": "stdout",
          "text": [
            "This is some text I'm writing to a file!\n",
            "This is a new line.\n",
            "This is a new line.\n",
            "This is a new line.\n",
            "This is a new line.\n",
            "This is a new line.\n",
            "This is a new line.\n",
            "This is a new line.\n",
            "File 'does_not_exist.txt' does not exist. Cannot read\n"
          ]
        }
      ]
    },
    {
      "cell_type": "code",
      "source": [
        "# 14. F Write a program that uses the logging module to log both informational and error messages\n",
        "import logging\n",
        "\n",
        "logging.basicConfig(filename='app.log', level=logging.DEBUG, format='%(asctime)s - %(levelname)s - %(message)s')\n",
        "\n",
        "def process_data(filename):\n",
        "  \"\"\"Processes data, using logging\"\"\"\n",
        "  logging.info(f\"Starting processing on file: '{filename}'\")\n",
        "  try:\n",
        "    lines = file_to_list(filename)\n",
        "    if lines:\n",
        "        for line in lines:\n",
        "             logging.debug(f\"Processing line: {line}\")\n",
        "             # do something with each line\n",
        "    else:\n",
        "        logging.error(f\"Could not process file: '{filename}'\")\n",
        "  except Exception as e:\n",
        "    logging.exception(f\"An error occurred: {e}\")\n",
        "    print(f\"An exception occured: {e}\")\n",
        "  logging.info(f\"Finished processing on file: '{filename}'\")\n",
        "\n",
        "process_data(\"my_output.txt\")\n",
        "process_data(\"no_file.txt\")\n",
        "\n"
      ],
      "metadata": {
        "colab": {
          "base_uri": "https://localhost:8080/"
        },
        "id": "FZOGsFOyhVMU",
        "outputId": "b4413a60-cbf3-4263-efea-ff2f62ed3f60"
      },
      "execution_count": null,
      "outputs": [
        {
          "output_type": "stream",
          "name": "stderr",
          "text": [
            "ERROR:root:Could not process file: 'no_file.txt'\n"
          ]
        },
        {
          "output_type": "stream",
          "name": "stdout",
          "text": [
            "Error: File 'no_file.txt' not found.\n"
          ]
        }
      ]
    },
    {
      "cell_type": "code",
      "source": [
        "#  Write a Python program that prints the content of a file and handles the case when the file is empty\n",
        "\n",
        "def print_file_content(filepath):\n",
        "    \"\"\"Prints the content of a file. Handles empty files.\"\"\"\n",
        "    try:\n",
        "        with open(filepath, 'r') as file:\n",
        "            content = file.read()\n",
        "            if not content:\n",
        "                print(\"File is empty.\")\n",
        "            else:\n",
        "                print(content)\n",
        "    except FileNotFoundError:\n",
        "        print(f\"Error: File not found at {filepath}\")\n",
        "print_file_content(\"my_file.txt\") # Replace \"my_file.txt\" with the actual filepath"
      ],
      "metadata": {
        "id": "gIhZrCHSlm01",
        "colab": {
          "base_uri": "https://localhost:8080/"
        },
        "outputId": "8b3a3981-fa01-4997-c877-896967683759"
      },
      "execution_count": 11,
      "outputs": [
        {
          "output_type": "stream",
          "name": "stdout",
          "text": [
            "Error: File not found at my_file.txt\n"
          ]
        }
      ]
    },
    {
      "cell_type": "code",
      "source": [
        "!pip install memory_profiler"
      ],
      "metadata": {
        "colab": {
          "base_uri": "https://localhost:8080/"
        },
        "id": "hAEQ7QuHJqpe",
        "outputId": "c254190c-2063-4720-f5a1-229bd9bb8e50"
      },
      "execution_count": 2,
      "outputs": [
        {
          "output_type": "stream",
          "name": "stdout",
          "text": [
            "Collecting memory_profiler\n",
            "  Downloading memory_profiler-0.61.0-py3-none-any.whl.metadata (20 kB)\n",
            "Requirement already satisfied: psutil in /usr/local/lib/python3.10/dist-packages (from memory_profiler) (5.9.5)\n",
            "Downloading memory_profiler-0.61.0-py3-none-any.whl (31 kB)\n",
            "Installing collected packages: memory_profiler\n",
            "Successfully installed memory_profiler-0.61.0\n"
          ]
        }
      ]
    },
    {
      "cell_type": "code",
      "source": [
        "# Demonstrate how to use memory profiling to check the memory usage of a small\n",
        "import memory_profiler\n",
        "import random\n",
        "\n",
        "@memory_profiler.profile\n",
        "def create_large_list():\n",
        "  \"\"\"Creates a large list to demonstrate memory usage.\"\"\"\n",
        "  large_list = []\n",
        "  for _ in range(100000):\n",
        "    large_list.append(random.randint(1,100))\n",
        "  return large_list\n",
        "\n",
        "if __name__ == \"__main__\":\n",
        "    large_list = create_large_list()\n",
        "    print(\"List created successfully\")\n",
        "# To run it, you'll need to execute using the mprof command:\n",
        "!mprof run memory_profiler.py\n",
        "!mprof plot"
      ],
      "metadata": {
        "colab": {
          "base_uri": "https://localhost:8080/"
        },
        "id": "dzo4fvHiH0MI",
        "outputId": "94a0da48-4409-44c2-cd88-f3e69bb6dd35"
      },
      "execution_count": 10,
      "outputs": [
        {
          "output_type": "stream",
          "name": "stdout",
          "text": [
            "ERROR: Could not find file <ipython-input-10-995ed1b97ab5>\n",
            "NOTE: %mprun can only be used on functions defined in physical files, and not in the IPython environment.\n",
            "List created successfully\n",
            "mprof: Sampling memory every 0.1s\n",
            "running new process\n",
            "running as a Python program...\n",
            "Could not find script memory_profiler.py\n",
            "Using last profile data.\n",
            "Figure(1260x540)\n"
          ]
        }
      ]
    },
    {
      "cell_type": "code",
      "source": [
        "!mprof run memory_profiler.py\n",
        "!mprof plot"
      ],
      "metadata": {
        "colab": {
          "base_uri": "https://localhost:8080/"
        },
        "id": "0vJtkkp6KJzD",
        "outputId": "b8b86892-396c-4136-e0fd-348ff2b7321e"
      },
      "execution_count": 9,
      "outputs": [
        {
          "output_type": "stream",
          "name": "stdout",
          "text": [
            "mprof: Sampling memory every 0.1s\n",
            "running new process\n",
            "running as a Python program...\n",
            "Could not find script memory_profiler.py\n",
            "Using last profile data.\n",
            "Figure(1260x540)\n"
          ]
        }
      ]
    },
    {
      "cell_type": "code",
      "source": [
        "# Write a Python program to create and write a list of numbers to a file, one number per line\n",
        "def write_numbers_to_file(filename, numbers):\n",
        "    \"\"\"Writes a list of numbers to a file, one number per line.\"\"\"\n",
        "    with open(filename, \"w\") as file:\n",
        "        for number in numbers:\n",
        "            file.write(str(number) + \"\\n\")\n",
        "\n",
        "if __name__ == \"__main__\":\n",
        "    my_numbers = [10, 25, 3, 100, 5]\n",
        "    write_numbers_to_file(\"numbers.txt\", my_numbers)\n",
        "    print(\"Numbers written to numbers.txt\")\n"
      ],
      "metadata": {
        "colab": {
          "base_uri": "https://localhost:8080/"
        },
        "id": "OPsuVIsFPXeW",
        "outputId": "9baef2bf-7d5b-48c4-cbe8-b67249f2f970"
      },
      "execution_count": 15,
      "outputs": [
        {
          "output_type": "stream",
          "name": "stdout",
          "text": [
            "Numbers written to numbers.txt\n"
          ]
        }
      ]
    },
    {
      "cell_type": "code",
      "source": [
        "# How would you implement a basic logging setup that logs to a file with rotation after 1MB?\n",
        "\n",
        "import logging\n",
        "from logging.handlers import RotatingFileHandler\n",
        "\n",
        "def setup_rotating_logger(log_file, max_bytes=1024 * 1024, backup_count=5):\n",
        "    \"\"\"Sets up a rotating file logger.\"\"\"\n",
        "    logger = logging.getLogger(\"my_app\")  # Or whatever you want to call your logger\n",
        "    logger.setLevel(logging.DEBUG)  # Minimum level of log messages to capture\n",
        "\n",
        "    # Create handler for rotating log files\n",
        "    handler = RotatingFileHandler(log_file, maxBytes=max_bytes, backupCount=backup_count)\n",
        "    formatter = logging.Formatter('%(asctime)s - %(name)s - %(levelname)s - %(message)s')\n",
        "    handler.setFormatter(formatter)\n",
        "    logger.addHandler(handler)\n",
        "\n",
        "    return logger\n",
        "\n",
        "if __name__ == \"__main__\":\n",
        "    logger = setup_rotating_logger(\"my_app.log\")\n",
        "\n",
        "    logger.debug(\"This is a debug message.\")\n",
        "    logger.info(\"This is an info message.\")\n",
        "    logger.warning(\"This is a warning message.\")\n",
        "    logger.error(\"This is an error message.\")\n",
        "    try:\n",
        "        1/0\n",
        "    except ZeroDivisionError as e:\n",
        "        logger.exception(\"Exception\", exc_info=True) # log stack traces"
      ],
      "metadata": {
        "colab": {
          "base_uri": "https://localhost:8080/"
        },
        "id": "d1nIrmqfQgu2",
        "outputId": "43305dae-6202-4efc-b422-8bbec722ad34"
      },
      "execution_count": 16,
      "outputs": [
        {
          "output_type": "stream",
          "name": "stderr",
          "text": [
            "DEBUG:my_app:This is a debug message.\n",
            "INFO:my_app:This is an info message.\n",
            "WARNING:my_app:This is a warning message.\n",
            "ERROR:my_app:This is an error message.\n",
            "ERROR:my_app:Exception\n",
            "Traceback (most recent call last):\n",
            "  File \"<ipython-input-16-11ea1f47e4df>\", line 27, in <cell line: 19>\n",
            "    1/0\n",
            "ZeroDivisionError: division by zero\n"
          ]
        }
      ]
    },
    {
      "cell_type": "code",
      "source": [
        "# Write a program that handles both IndexError and KeyError using a try-except block\n",
        "def access_data(data, index=None, key=None):\n",
        "    \"\"\"Accesses data from a list or dictionary, handling exceptions.\"\"\"\n",
        "    try:\n",
        "        if index is not None:\n",
        "            return data[index]\n",
        "        elif key is not None:\n",
        "           return data[key]\n",
        "        else:\n",
        "            raise ValueError(\"Either 'index' or 'key' must be specified\")\n",
        "\n",
        "    except IndexError as e:\n",
        "        print(f\"Index Error: {e}\")\n",
        "        return None\n",
        "    except KeyError as e:\n",
        "        print(f\"Key Error: {e}\")\n",
        "        return None\n",
        "    except ValueError as e:\n",
        "        print(f\"Value Error: {e}\")\n",
        "        return None\n",
        "\n",
        "if __name__ == \"__main__\":\n",
        "    my_list = [10, 20, 30]\n",
        "    my_dict = {\"a\": 100, \"b\": 200}\n",
        "\n",
        "    print(access_data(my_list, index=1))   # Output: 20\n",
        "    print(access_data(my_list, index=5))  # Output: Index Error: list index out of range, None\n",
        "    print(access_data(my_dict, key=\"a\")) # Output: 100\n",
        "    print(access_data(my_dict, key=\"c\")) # Output: Key Error: 'c', None\n",
        "    print(access_data(my_dict)) # Output: ValueError: Either 'index' or 'key' must be specified, None"
      ],
      "metadata": {
        "colab": {
          "base_uri": "https://localhost:8080/"
        },
        "id": "3MR8aKsPR3qO",
        "outputId": "4652010d-0bc1-4bf6-c844-c47f2aa7afaf"
      },
      "execution_count": 18,
      "outputs": [
        {
          "output_type": "stream",
          "name": "stdout",
          "text": [
            "20\n",
            "Index Error: list index out of range\n",
            "None\n",
            "100\n",
            "Key Error: 'c'\n",
            "None\n",
            "Value Error: Either 'index' or 'key' must be specified\n",
            "None\n"
          ]
        }
      ]
    },
    {
      "cell_type": "code",
      "source": [
        "# How would you open a file and read its contents using a context manager in Python?\n",
        "def read_file_with_context_manager(filename):\n",
        "    \"\"\"Reads a file using a context manager.\"\"\"\n",
        "    try:\n",
        "        with open(filename, \"r\") as file:\n",
        "            contents = file.read()\n",
        "            return contents\n",
        "    except FileNotFoundError:\n",
        "        print(f\"File not found: {filename}\")\n",
        "        return None\n",
        "\n",
        "if __name__ == \"__main__\":\n",
        "    # Create a dummy file for testing\n",
        "    with open(\"test.txt\", \"w\") as f:\n",
        "        f.write(\"This is a test file.\\nIt has multiple lines.\\n\")\n",
        "\n",
        "    file_contents = read_file_with_context_manager(\"test.txt\")\n",
        "    if file_contents:\n",
        "        print(file_contents)"
      ],
      "metadata": {
        "colab": {
          "base_uri": "https://localhost:8080/"
        },
        "id": "QS5YNzh2XPkQ",
        "outputId": "c8b8f274-9356-4619-c5dc-f5e32f58e0c7"
      },
      "execution_count": 21,
      "outputs": [
        {
          "output_type": "stream",
          "name": "stdout",
          "text": [
            "This is a test file.\n",
            "It has multiple lines.\n",
            "\n"
          ]
        }
      ]
    },
    {
      "cell_type": "code",
      "source": [
        "#Write a Python program that reads a file and prints the number of occurrences of a specific word\n",
        "def count_word_occurrences(filename, word):\n",
        "    \"\"\"Counts the occurrences of a word in a file.\"\"\"\n",
        "    try:\n",
        "        with open(filename, \"r\") as file:\n",
        "            contents = file.read()\n",
        "            count = contents.lower().split().count(word.lower())\n",
        "            return count\n",
        "    except FileNotFoundError:\n",
        "        print(f\"File not found: {filename}\")\n",
        "        return None\n",
        "\n",
        "if __name__ == \"__main__\":\n",
        "    # Create a dummy file for testing\n",
        "    with open(\"text.txt\", \"w\") as f:\n",
        "       f.write(\"this is a file, with some words.\\n this is also a test.\\n This is a TEST\")\n",
        "    word_to_count = \"is\"\n",
        "    occurrences = count_word_occurrences(\"text.txt\", word_to_count)\n",
        "\n",
        "    if occurrences is not None:\n",
        "        print(f'The word \"{word_to_count}\" appears {occurrences} times in the file.')\n",
        "\n",
        "    occurrences = count_word_occurrences(\"non_existent.txt\", word_to_count)"
      ],
      "metadata": {
        "colab": {
          "base_uri": "https://localhost:8080/"
        },
        "id": "MFiyiV5ydft5",
        "outputId": "a7491dde-09e3-4edc-9c9b-4f2bbd1b69f2"
      },
      "execution_count": 23,
      "outputs": [
        {
          "output_type": "stream",
          "name": "stdout",
          "text": [
            "The word \"is\" appears 3 times in the file.\n",
            "File not found: non_existent.txt\n"
          ]
        }
      ]
    },
    {
      "cell_type": "code",
      "source": [
        " #How can you check if a file is empty before attempting to read its contents\n",
        "import os\n",
        "\n",
        "def is_file_empty(filename):\n",
        "    \"\"\"Checks if a file is empty.\"\"\"\n",
        "    try:\n",
        "        return os.path.getsize(filename) == 0\n",
        "    except FileNotFoundError:\n",
        "        print(f\"File not found: {filename}\")\n",
        "        return True  # Treat non-existent file as empty\n",
        "\n",
        "def read_file_if_not_empty(filename):\n",
        "  \"\"\"Reads a file if it is not empty, and prints its content\"\"\"\n",
        "  if not is_file_empty(filename):\n",
        "    with open(filename, \"r\") as f:\n",
        "      print(f\"Content of file '{filename}' is:\\n {f.read()}\")\n",
        "  else:\n",
        "    print(f\"File '{filename}' is empty.\")\n",
        "\n",
        "if __name__ == \"__main__\":\n",
        "    # Create an empty file\n",
        "    with open(\"empty.txt\", \"w\") as f:\n",
        "      pass\n",
        "\n",
        "    # Create a file with content\n",
        "    with open(\"not_empty.txt\", \"w\") as f:\n",
        "       f.write(\"Some content in this file.\")\n",
        "\n",
        "    read_file_if_not_empty(\"empty.txt\")\n",
        "    read_file_if_not_empty(\"not_empty.txt\")\n",
        "    read_file_if_not_empty(\"nonexistent.txt\")"
      ],
      "metadata": {
        "colab": {
          "base_uri": "https://localhost:8080/"
        },
        "id": "3akNAObNeJLz",
        "outputId": "f065def0-361a-42ee-ae4b-0217dd71ce45"
      },
      "execution_count": 25,
      "outputs": [
        {
          "output_type": "stream",
          "name": "stdout",
          "text": [
            "File 'empty.txt' is empty.\n",
            "Content of file 'not_empty.txt' is:\n",
            " Some content in this file.\n",
            "File not found: nonexistent.txt\n",
            "File 'nonexistent.txt' is empty.\n"
          ]
        }
      ]
    },
    {
      "cell_type": "code",
      "source": [
        "#  Write a Python program that writes to a log file when an error occurs during file handling.\n",
        "import logging\n",
        "\n",
        "# Configure basic logging to a file\n",
        "logging.basicConfig(filename='file_errors.log', level=logging.ERROR,\n",
        "                    format='%(asctime)s - %(levelname)s - %(message)s')\n",
        "\n",
        "def read_file_safely(filename):\n",
        "    \"\"\"Attempts to read a file and logs errors.\"\"\"\n",
        "    try:\n",
        "        with open(filename, 'r') as file:\n",
        "            contents = file.read()\n",
        "            return contents\n",
        "    except FileNotFoundError as e:\n",
        "        logging.error(f\"File not found: {filename}, Details: {e}\")\n",
        "        return None\n",
        "    except Exception as e:\n",
        "        logging.error(f\"An error occurred reading '{filename}': {e}\", exc_info=True)\n",
        "        return None\n",
        "\n",
        "def delete_file_safely(filename):\n",
        "  \"\"\"Attempts to delete a file and logs errors\"\"\"\n",
        "  try:\n",
        "      import os\n",
        "      os.remove(filename)\n",
        "  except FileNotFoundError as e:\n",
        "        logging.error(f\"File not found: {filename}, Details: {e}\")\n",
        "        return None\n",
        "  except Exception as e:\n",
        "        logging.error(f\"An error occurred deleting '{filename}': {e}\", exc_info=True)\n",
        "        return None\n",
        "\n",
        "\n",
        "if __name__ == \"__main__\":\n",
        "    # Try reading a file that doesn't exist (this will trigger logging)\n",
        "    content = read_file_safely(\"nonexistent.txt\")\n",
        "    if content is None:\n",
        "        print(\"Error reading the file, see log.\")\n",
        "\n",
        "    # Try deleting a file that doesn't exist (this will trigger logging)\n",
        "    delete_file_safely(\"nonexistent.txt\")\n",
        "    print(\"Error deleting the file, see log.\")\n",
        "\n",
        "    # Try reading a file that does exist\n",
        "    with open(\"test.txt\", \"w\") as f:\n",
        "        f.write(\"Test file content\")\n",
        "    content = read_file_safely(\"test.txt\")\n",
        "    if content is not None:\n",
        "        print(f\"File content is '{content}'\")\n",
        "    delete_file_safely(\"test.txt\")\n",
        "\n"
      ],
      "metadata": {
        "colab": {
          "base_uri": "https://localhost:8080/"
        },
        "id": "FnwUZGdBXzYd",
        "outputId": "55d3c9f1-48dc-470e-fb0d-b3c0696d5923"
      },
      "execution_count": 27,
      "outputs": [
        {
          "output_type": "stream",
          "name": "stderr",
          "text": [
            "ERROR:root:File not found: nonexistent.txt, Details: [Errno 2] No such file or directory: 'nonexistent.txt'\n",
            "ERROR:root:File not found: nonexistent.txt, Details: [Errno 2] No such file or directory: 'nonexistent.txt'\n"
          ]
        },
        {
          "output_type": "stream",
          "name": "stdout",
          "text": [
            "Error reading the file, see log.\n",
            "Error deleting the file, see log.\n",
            "File content is 'Test file content'\n"
          ]
        }
      ]
    },
    {
      "cell_type": "markdown",
      "source": [],
      "metadata": {
        "id": "BhmETDXQFDyR"
      }
    },
    {
      "cell_type": "markdown",
      "source": [],
      "metadata": {
        "id": "vXuqw9e8EITt"
      }
    }
  ]
}